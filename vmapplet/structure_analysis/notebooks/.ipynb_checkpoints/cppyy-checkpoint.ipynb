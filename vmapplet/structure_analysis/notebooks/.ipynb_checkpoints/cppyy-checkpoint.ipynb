{
 "cells": [
  {
   "cell_type": "code",
   "execution_count": 1,
   "id": "301c52bd-d0fe-4695-9db6-80e335a77aca",
   "metadata": {},
   "outputs": [],
   "source": [
    "import cppyy"
   ]
  },
  {
   "cell_type": "code",
   "execution_count": 2,
   "id": "6135ff35-fa69-42c4-a444-28fc47ab212e",
   "metadata": {},
   "outputs": [],
   "source": [
    "cppyy.add_include_path('../src')\n",
    "cppyy.add_library_path('../build/')\n",
    "cppyy.add_library_path('../build/src/stat_tool/')\n",
    "cppyy.add_library_path('../build/src/sequence_analysis/')"
   ]
  },
  {
   "cell_type": "code",
   "execution_count": 3,
   "id": "930868ff-66ab-4ba9-96c0-a2d71bb6e6f1",
   "metadata": {},
   "outputs": [
    {
     "data": {
      "text/plain": [
       "True"
      ]
     },
     "execution_count": 3,
     "metadata": {},
     "output_type": "execute_result"
    }
   ],
   "source": [
    "cppyy.include('../src/markov.h')"
   ]
  },
  {
   "cell_type": "code",
   "execution_count": 4,
   "id": "d3435919-0ffc-4f55-a2e8-3b1577b5171d",
   "metadata": {},
   "outputs": [
    {
     "data": {
      "text/plain": [
       "True"
      ]
     },
     "execution_count": 4,
     "metadata": {},
     "output_type": "execute_result"
    }
   ],
   "source": [
    "cppyy.load_library('stat_tool')\n",
    "cppyy.load_library('sequence_analysis')"
   ]
  },
  {
   "cell_type": "code",
   "execution_count": 5,
   "id": "c00ca291-0309-4ebb-8ad7-7828a545a525",
   "metadata": {},
   "outputs": [],
   "source": [
    "from cppyy.gbl import sequence_analysis, stat_tool"
   ]
  },
  {
   "cell_type": "code",
   "execution_count": 6,
   "id": "003c6a13-03e1-43a1-b1ae-c9bc968cc503",
   "metadata": {},
   "outputs": [
    {
     "data": {
      "text/plain": [
       "<class cppyy.gbl.stat_tool.StatError at 0x55dc0a189100>"
      ]
     },
     "execution_count": 6,
     "metadata": {},
     "output_type": "execute_result"
    }
   ],
   "source": [
    "stat_tool.StatError"
   ]
  },
  {
   "cell_type": "code",
   "execution_count": 7,
   "id": "8a247632-3e3b-47a3-86ba-638f9767ef31",
   "metadata": {},
   "outputs": [
    {
     "data": {
      "text/plain": [
       "<class cppyy.gbl.sequence_analysis.HiddenSemiMarkov at 0x55dc0a218480>"
      ]
     },
     "execution_count": 7,
     "metadata": {},
     "output_type": "execute_result"
    }
   ],
   "source": [
    "sequence_analysis.HiddenSemiMarkov"
   ]
  },
  {
   "cell_type": "code",
   "execution_count": 8,
   "id": "36c43ac6-1e23-4a72-881e-b89caf5ffb77",
   "metadata": {},
   "outputs": [
    {
     "data": {
      "text/plain": [
       "<class cppyy.gbl.sequence_analysis.SemiMarkovIterator at 0x55dc0a22ba30>"
      ]
     },
     "execution_count": 8,
     "metadata": {},
     "output_type": "execute_result"
    }
   ],
   "source": [
    "sequence_analysis.SemiMarkovIterator"
   ]
  },
  {
   "cell_type": "code",
   "execution_count": 9,
   "id": "30e70072-8078-4f33-aac7-8c9ecd880743",
   "metadata": {},
   "outputs": [
    {
     "data": {
      "text/plain": [
       "<cppyy.gbl.sequence_analysis.HiddenSemiMarkov object at 0x55dc0a28cb70>"
      ]
     },
     "execution_count": 9,
     "metadata": {},
     "output_type": "execute_result"
    }
   ],
   "source": [
    "hsm = sequence_analysis.HiddenSemiMarkov.ascii_read(stat_tool.StatError(), 'fmodel_fuji_5_15_y3_96.txt')\n",
    "hsm"
   ]
  },
  {
   "cell_type": "code",
   "execution_count": 10,
   "id": "87d1ecdf-ee2b-4d60-835e-c68379eee665",
   "metadata": {},
   "outputs": [
    {
     "name": "stdout",
     "output_type": "stream",
     "text": [
      "\n",
      "7 STATES\n"
     ]
    },
    {
     "data": {
      "text/plain": [
       "<cppyy.gbl.std.basic_ostream<char> object at 0x7fac01691ba0>"
      ]
     },
     "execution_count": 10,
     "metadata": {},
     "output_type": "execute_result"
    },
    {
     "name": "stdout",
     "output_type": "stream",
     "text": [
      "\n",
      "INITIAL_PROBABILITIES\n",
      "0.9756     0          1e-05      0          0.0243902  0          0          \n",
      "\n",
      "TRANSITION_PROBABILITIES\n",
      "0          0.7        0          0          0.1        0.2        0          \n",
      "0          0          0          0.142857   0.214286   0.642857   0          \n",
      "0          0          0          1          0          0          0          \n",
      "0          0          0          0          0          0.25       0.75       \n",
      "0          0          0          0          0          1          0          \n",
      "0          0          0          0          0          0          1          \n",
      "0          0          0          0          0          0          1          \n",
      "\n",
      "transient class: state 0\n",
      "transient class: state 1\n",
      "transient class: state 2\n",
      "transient class: state 3\n",
      "transient class: state 4\n",
      "transient class: state 5\n",
      "recurrent class: state 6 (absorbing state)\n"
     ]
    }
   ],
   "source": [
    "from cppyy.gbl import std\n",
    "hsm.ascii_print(std.cout)"
   ]
  },
  {
   "cell_type": "code",
   "execution_count": 11,
   "id": "eeb094b1-7552-4dfc-8671-0a39176c9b0f",
   "metadata": {},
   "outputs": [
    {
     "data": {
      "text/plain": [
       "[[5, 0], [4, 0], [4, 3], [4, 4], [0, 0], [0, 0], [0, 0], [0, 0], [0, 0]]"
      ]
     },
     "execution_count": 11,
     "metadata": {},
     "output_type": "execute_result"
    }
   ],
   "source": [
    "# MAppleT generate_hsm_sequence spequences.py\n",
    "sequence_length = 100\n",
    "iterator = sequence_analysis.SemiMarkovIterator(hsm)\n",
    "simulation = iterator.simulation(sequence_length, True)\n",
    "i = 0\n",
    "sequence = []\n",
    "for i in range(0, sequence_length):\n",
    "    if simulation[0][i] == 6 :\n",
    "        break\n",
    "    sequence.append([simulation[0][i], simulation[1][i]])\n",
    "\n",
    "sequence.reverse()\n",
    "sequence"
   ]
  },
  {
   "cell_type": "code",
   "execution_count": null,
   "id": "05120b2a-2bea-4ca8-aac3-5e979b560bda",
   "metadata": {},
   "outputs": [],
   "source": []
  }
 ],
 "metadata": {
  "kernelspec": {
   "display_name": "Python 3 (ipykernel)",
   "language": "python",
   "name": "python3"
  },
  "language_info": {
   "codemirror_mode": {
    "name": "ipython",
    "version": 3
   },
   "file_extension": ".py",
   "mimetype": "text/x-python",
   "name": "python",
   "nbconvert_exporter": "python",
   "pygments_lexer": "ipython3",
   "version": "3.10.4"
  },
  "widgets": {
   "application/vnd.jupyter.widget-state+json": {
    "state": {},
    "version_major": 2,
    "version_minor": 0
   }
  }
 },
 "nbformat": 4,
 "nbformat_minor": 5
}
