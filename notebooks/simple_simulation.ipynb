{
 "cells": [
  {
   "cell_type": "code",
   "execution_count": null,
   "id": "c53a8105-14b5-437b-91ce-604152bb9c61",
   "metadata": {
    "tags": []
   },
   "outputs": [],
   "source": [
    "import pickle, io\n",
    "\n",
    "from pgljupyter import SceneWidget\n",
    "from openalea import mtg\n",
    "\n",
    "import vmapplet"
   ]
  },
  {
   "cell_type": "code",
   "execution_count": null,
   "id": "b74cb80a-cac4-4d6f-ae18-165a52517072",
   "metadata": {
    "tags": []
   },
   "outputs": [],
   "source": [
    "widget = SceneWidget()\n",
    "widget"
   ]
  },
  {
   "cell_type": "code",
   "execution_count": null,
   "id": "f4e4ddad-ba3d-40c8-9ecc-28740c010452",
   "metadata": {
    "tags": []
   },
   "outputs": [],
   "source": [
    "# load simulation parameter file and instantiate a Simulation\n",
    "with io.open('../vmapplet/data/simulation.toml') as file:\n",
    "    simulation = vmapplet.Simulation(file.read())"
   ]
  },
  {
   "cell_type": "code",
   "execution_count": null,
   "id": "8f50dd49",
   "metadata": {
    "tags": []
   },
   "outputs": [],
   "source": [
    "# run with optional widget\n",
    "vmapplet.run(simulation, scene_widget=widget)"
   ]
  },
  {
   "cell_type": "code",
   "execution_count": null,
   "id": "b243f0f4-cf7c-4c35-8fa3-a6e894c36e8b",
   "metadata": {
    "tags": []
   },
   "outputs": [],
   "source": [
    "# read pickled output mtg\n",
    "with io.open('./output/1997-06-01.mtg', 'rb') as file:\n",
    "    tree = pickle.load(file)"
   ]
  },
  {
   "cell_type": "code",
   "execution_count": null,
   "id": "64f4118d-93ff-4d43-99ed-f919d820003c",
   "metadata": {
    "tags": []
   },
   "outputs": [],
   "source": [
    "tree.display(display_scale=True)"
   ]
  },
  {
   "cell_type": "code",
   "execution_count": null,
   "id": "1d1b6f74-217b-4ef9-adee-6c4452458970",
   "metadata": {},
   "outputs": [],
   "source": []
  }
 ],
 "metadata": {
  "kernelspec": {
   "display_name": "Python 3 (ipykernel)",
   "language": "python",
   "name": "python3"
  },
  "language_info": {
   "codemirror_mode": {
    "name": "ipython",
    "version": 3
   },
   "file_extension": ".py",
   "mimetype": "text/x-python",
   "name": "python",
   "nbconvert_exporter": "python",
   "pygments_lexer": "ipython3",
   "version": "3.9.15"
  },
  "widgets": {
   "application/vnd.jupyter.widget-state+json": {
    "state": {},
    "version_major": 2,
    "version_minor": 0
   }
  }
 },
 "nbformat": 4,
 "nbformat_minor": 5
}
