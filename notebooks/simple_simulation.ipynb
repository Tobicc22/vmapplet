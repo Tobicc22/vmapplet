{
 "cells": [
  {
   "cell_type": "code",
   "execution_count": null,
   "id": "c53a8105-14b5-437b-91ce-604152bb9c61",
   "metadata": {},
   "outputs": [],
   "source": [
    "import io\n",
    "from pgljupyter import SceneWidget\n",
    "from vmapplet.simulation import Simulation"
   ]
  },
  {
   "cell_type": "code",
   "execution_count": null,
   "id": "f4e4ddad-ba3d-40c8-9ecc-28740c010452",
   "metadata": {
    "tags": []
   },
   "outputs": [],
   "source": [
    "# load simulation parameter file and instantiate a Simulation\n",
    "with io.open('../vmapplet/data/simulation.toml') as file:\n",
    "    sim = Simulation(file.read())"
   ]
  },
  {
   "cell_type": "code",
   "execution_count": null,
   "id": "c93d386d-7cd3-474c-93f5-2c18d872e7d4",
   "metadata": {},
   "outputs": [],
   "source": [
    "widget = SceneWidget()\n",
    "widget"
   ]
  },
  {
   "cell_type": "code",
   "execution_count": null,
   "id": "8f50dd49",
   "metadata": {},
   "outputs": [],
   "source": [
    "# run with optional widget\n",
    "sim.run(scene_widget=widget)"
   ]
  },
  {
   "cell_type": "code",
   "execution_count": null,
   "id": "68cd7f10-9a11-49e1-a38c-f5ff1ca4b2bc",
   "metadata": {},
   "outputs": [],
   "source": []
  }
 ],
 "metadata": {
  "kernelspec": {
   "display_name": "Python 3 (ipykernel)",
   "language": "python",
   "name": "python3"
  },
  "language_info": {
   "codemirror_mode": {
    "name": "ipython",
    "version": 3
   },
   "file_extension": ".py",
   "mimetype": "text/x-python",
   "name": "python",
   "nbconvert_exporter": "python",
   "pygments_lexer": "ipython3",
   "version": "3.9.15"
  },
  "widgets": {
   "application/vnd.jupyter.widget-state+json": {
    "state": {},
    "version_major": 2,
    "version_minor": 0
   }
  }
 },
 "nbformat": 4,
 "nbformat_minor": 5
}
