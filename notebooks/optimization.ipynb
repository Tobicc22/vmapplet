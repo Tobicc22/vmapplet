{
 "cells": [
  {
   "cell_type": "code",
   "execution_count": 1,
   "id": "887d4827-cc87-4d69-9ad9-a61dffc045d4",
   "metadata": {},
   "outputs": [],
   "source": [
    "import os\n",
    "import cppyy\n",
    "import openalea.plantgl.all as pgl"
   ]
  },
  {
   "cell_type": "code",
   "execution_count": 2,
   "id": "8c426a16-057a-46fc-bf4c-726504d5198e",
   "metadata": {},
   "outputs": [
    {
     "name": "stdout",
     "output_type": "stream",
     "text": [
      " -O2 -mavx -g\n"
     ]
    }
   ],
   "source": [
    "os.environ['EXTRA_CLING_ARGS'] = os.environ['EXTRA_CLING_ARGS'] + ' -g'\n",
    "print(os.environ['EXTRA_CLING_ARGS'])"
   ]
  },
  {
   "cell_type": "code",
   "execution_count": 3,
   "id": "8a3aa1d7-0943-4b42-ab4c-6d81c172e125",
   "metadata": {},
   "outputs": [
    {
     "data": {
      "text/plain": [
       "True"
      ]
     },
     "execution_count": 3,
     "metadata": {},
     "output_type": "execute_result"
    }
   ],
   "source": [
    "cppyy.add_include_path(f'{os.environ[\"CONDA_PREFIX\"]}/include')\n",
    "cppyy.add_library_path(f'{os.environ[\"CONDA_PREFIX\"]}/lib')\n",
    "cppyy.load_library('pglmath')\n",
    "cppyy.include('../vmapplet/optimization.h')"
   ]
  },
  {
   "cell_type": "code",
   "execution_count": 4,
   "id": "1f4d5592-9065-41ee-8c6e-fe20181dc4e5",
   "metadata": {},
   "outputs": [
    {
     "name": "stderr",
     "output_type": "stream",
     "text": [
      "IncrementalExecutor::executeFunction: symbol '_ZN3PGL7Vector3D1Ev' unresolved while linking symbol '__cf_7'!\n",
      "You are probably missing the definition of PGL::Vector3::~Vector3()\n",
      "Maybe you need to load the corresponding shared library?\n",
      "IncrementalExecutor::executeFunction: symbol '_ZN3PGL7Vector3C1ERKdS2_S2_' unresolved while linking symbol '__cf_7'!\n",
      "You are probably missing the definition of PGL::Vector3::Vector3(double const&, double const&, double const&)\n",
      "Maybe you need to load the corresponding shared library?\n",
      "IncrementalExecutor::executeFunction: symbol '_ZN3PGLmlERKNS_7Vector3ES2_' unresolved while linking symbol '__cf_7'!\n",
      "You are probably missing the definition of PGL::operator*(PGL::Vector3 const&, PGL::Vector3 const&)\n",
      "Maybe you need to load the corresponding shared library?\n"
     ]
    },
    {
     "ename": "ValueError",
     "evalue": "std::array<float,3> optimization::rotate(float v3x, float v3y, float v3z, float angle, float vx, float vy, float vz) =>\n    ValueError: nullptr result where temporary expected",
     "output_type": "error",
     "traceback": [
      "\u001b[0;31m---------------------------------------------------------------------------\u001b[0m",
      "\u001b[0;31mValueError\u001b[0m                                Traceback (most recent call last)",
      "Input \u001b[0;32mIn [4]\u001b[0m, in \u001b[0;36m<cell line: 1>\u001b[0;34m()\u001b[0m\n\u001b[0;32m----> 1\u001b[0m t \u001b[38;5;241m=\u001b[39m \u001b[43mcppyy\u001b[49m\u001b[38;5;241;43m.\u001b[39;49m\u001b[43mgbl\u001b[49m\u001b[38;5;241;43m.\u001b[39;49m\u001b[43moptimization\u001b[49m\u001b[38;5;241;43m.\u001b[39;49m\u001b[43mrotate\u001b[49m\u001b[43m(\u001b[49m\u001b[38;5;241;43m1\u001b[39;49m\u001b[43m,\u001b[49m\u001b[38;5;241;43m2\u001b[39;49m\u001b[43m,\u001b[49m\u001b[38;5;241;43m3\u001b[39;49m\u001b[43m,\u001b[49m\u001b[38;5;241;43m4\u001b[39;49m\u001b[43m,\u001b[49m\u001b[38;5;241;43m5\u001b[39;49m\u001b[43m,\u001b[49m\u001b[38;5;241;43m6\u001b[39;49m\u001b[43m,\u001b[49m\u001b[38;5;241;43m7\u001b[39;49m\u001b[43m)\u001b[49m\n\u001b[1;32m      2\u001b[0m t\n",
      "\u001b[0;31mValueError\u001b[0m: std::array<float,3> optimization::rotate(float v3x, float v3y, float v3z, float angle, float vx, float vy, float vz) =>\n    ValueError: nullptr result where temporary expected"
     ]
    }
   ],
   "source": [
    "t = cppyy.gbl.optimization.rotate(1,2,3,4,5,6,7)\n",
    "t"
   ]
  },
  {
   "cell_type": "code",
   "execution_count": null,
   "id": "2129c27a-729e-48a8-85c9-41922c8d9591",
   "metadata": {},
   "outputs": [],
   "source": [
    "list(pgl.Vector3(t))"
   ]
  },
  {
   "cell_type": "code",
   "execution_count": null,
   "id": "d699878e-b649-403b-9ee6-15d7c926f0ae",
   "metadata": {},
   "outputs": [],
   "source": [
    "cppyy.gbl.optimization.reaction_wood_target((0,0,0),(0,0,0),(0,0,0))"
   ]
  },
  {
   "cell_type": "code",
   "execution_count": null,
   "id": "7ea6909d-69e9-4c1c-887d-d0bb1f765e18",
   "metadata": {},
   "outputs": [],
   "source": [
    "cppyy.gbl.PGL.Vector3()"
   ]
  },
  {
   "cell_type": "code",
   "execution_count": null,
   "id": "63e1865e-b6b8-4e96-8527-948239da9b3b",
   "metadata": {},
   "outputs": [],
   "source": [
    "pgl.Vector3()"
   ]
  },
  {
   "cell_type": "code",
   "execution_count": null,
   "id": "138b572e-d8ab-462a-aeab-718cb48b85a7",
   "metadata": {},
   "outputs": [],
   "source": [
    "from vmapplet import optimisation"
   ]
  },
  {
   "cell_type": "code",
   "execution_count": null,
   "id": "368f582d-75ec-4f6c-ae6f-2c83756403c1",
   "metadata": {},
   "outputs": [],
   "source": []
  }
 ],
 "metadata": {
  "kernelspec": {
   "display_name": "Python 3 (ipykernel)",
   "language": "python",
   "name": "python3"
  },
  "language_info": {
   "codemirror_mode": {
    "name": "ipython",
    "version": 3
   },
   "file_extension": ".py",
   "mimetype": "text/x-python",
   "name": "python",
   "nbconvert_exporter": "python",
   "pygments_lexer": "ipython3",
   "version": "3.9.12"
  },
  "widgets": {
   "application/vnd.jupyter.widget-state+json": {
    "state": {},
    "version_major": 2,
    "version_minor": 0
   }
  }
 },
 "nbformat": 4,
 "nbformat_minor": 5
}
