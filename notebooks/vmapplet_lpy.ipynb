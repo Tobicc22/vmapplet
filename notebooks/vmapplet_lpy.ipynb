{
 "cells": [
  {
   "cell_type": "code",
   "execution_count": 1,
   "id": "c53a8105-14b5-437b-91ce-604152bb9c61",
   "metadata": {},
   "outputs": [],
   "source": [
    "import openalea.lpy as lpy"
   ]
  },
  {
   "cell_type": "code",
   "execution_count": 2,
   "id": "4a153d4b-ae9d-409a-a941-736c66977b0c",
   "metadata": {},
   "outputs": [
    {
     "name": "stderr",
     "output_type": "stream",
     "text": [
      "vmapplet.lpy:750: Warning: IndentationWarning: missing indent.\n",
      "vmapplet.lpy:763: Warning: IndentationWarning: missing indent.\n",
      "vmapplet.lpy:774: Warning: IndentationWarning: missing indent.\n",
      "vmapplet.lpy:788: Warning: IndentationWarning: missing indent.\n",
      "vmapplet.lpy:798: Warning: IndentationWarning: missing indent.\n",
      "vmapplet.lpy:808: Warning: IndentationWarning: missing indent.\n",
      "vmapplet.lpy:813: Warning: IndentationWarning: missing indent.\n",
      "vmapplet.lpy:830: Warning: IndentationWarning: missing indent.\n",
      "vmapplet.lpy:837: Warning: IndentationWarning: missing indent.\n",
      "vmapplet.lpy:844: Warning: IndentationWarning: missing indent.\n",
      "vmapplet.lpy:846: Warning: IndentationWarning: missing indent.\n",
      "vmapplet.lpy:871: Warning: IndentationWarning: missing indent.\n",
      "vmapplet.lpy:877: Warning: IndentationWarning: missing indent.\n",
      "vmapplet.lpy:886: Warning: IndentationWarning: missing indent.\n",
      "vmapplet.lpy:889: Warning: IndentationWarning: missing indent.\n",
      "vmapplet.lpy:910: Warning: IndentationWarning: missing indent.\n",
      "vmapplet.lpy:916: Warning: IndentationWarning: missing indent.\n",
      "vmapplet.lpy:923: Warning: IndentationWarning: missing indent.\n",
      "vmapplet.lpy:927: Warning: IndentationWarning: missing indent.\n",
      "vmapplet.lpy:950: Warning: IndentationWarning: missing indent.\n",
      "vmapplet.lpy:958: Warning: IndentationWarning: missing indent.\n",
      "vmapplet.lpy:961: Warning: IndentationWarning: missing indent.\n",
      "vmapplet.lpy:970: Warning: IndentationWarning: missing indent.\n",
      "vmapplet.lpy:986: Warning: IndentationWarning: missing indent.\n",
      "vmapplet.lpy:994: Warning: IndentationWarning: missing indent.\n",
      "vmapplet.lpy:996: Warning: IndentationWarning: missing indent.\n",
      "vmapplet.lpy:1039: Warning: IndentationWarning: missing indent.\n",
      "vmapplet.lpy:1078: Warning: IndentationWarning: missing indent.\n",
      "vmapplet.lpy:1080: Warning: IndentationWarning: missing indent.\n",
      "vmapplet.lpy:1086: Warning: IndentationWarning: missing indent.\n",
      "vmapplet.lpy:1094: Warning: IndentationWarning: missing indent.\n",
      "vmapplet.lpy:1099: Warning: IndentationWarning: missing indent.\n",
      "vmapplet.lpy:1102: Warning: IndentationWarning: missing indent.\n",
      "vmapplet.lpy:1113: Warning: IndentationWarning: missing indent.\n"
     ]
    },
    {
     "name": "stdout",
     "output_type": "stream",
     "text": [
      "WARNING using non optimised code\n",
      "WARNING using non optimised code\n"
     ]
    },
    {
     "ename": "ModuleNotFoundError",
     "evalue": "No module named 'openalea.fractalysis'",
     "output_type": "error",
     "traceback": [
      "\u001b[0;31m---------------------------------------------------------------------------\u001b[0m",
      "\u001b[0;31mModuleNotFoundError\u001b[0m                       Traceback (most recent call last)",
      "Input \u001b[0;32mIn [2]\u001b[0m, in \u001b[0;36m<cell line: 1>\u001b[0;34m()\u001b[0m\n\u001b[0;32m----> 1\u001b[0m lsys \u001b[38;5;241m=\u001b[39m \u001b[43mlpy\u001b[49m\u001b[38;5;241;43m.\u001b[39;49m\u001b[43mLsystem\u001b[49m\u001b[43m(\u001b[49m\u001b[38;5;124;43m'\u001b[39;49m\u001b[38;5;124;43m../vmapplet/vmapplet.lpy\u001b[39;49m\u001b[38;5;124;43m'\u001b[39;49m\u001b[43m)\u001b[49m\n",
      "File \u001b[0;32m<string>:45\u001b[0m, in \u001b[0;36m<module>\u001b[0;34m\u001b[0m\n",
      "File \u001b[0;32m~/dev/jvail/INRAE/vmapplet/vmapplet/interception.py:6\u001b[0m, in \u001b[0;36m<module>\u001b[0;34m\u001b[0m\n\u001b[1;32m      1\u001b[0m \u001b[38;5;124;03m\"\"\"\u001b[39;00m\n\u001b[1;32m      2\u001b[0m \u001b[38;5;124;03mThis surface/area calculation part of this module was co-developed by Da Silva, Boudon and Han in April, 2011.\u001b[39;00m\n\u001b[1;32m      3\u001b[0m \u001b[38;5;124;03mThe rest functionalities were written by Han in April and May, 2011.\u001b[39;00m\n\u001b[1;32m      4\u001b[0m \u001b[38;5;124;03m\"\"\"\u001b[39;00m\n\u001b[1;32m      5\u001b[0m \u001b[38;5;28;01mfrom\u001b[39;00m \u001b[38;5;21;01mopenalea\u001b[39;00m\u001b[38;5;21;01m.\u001b[39;00m\u001b[38;5;21;01mplantgl\u001b[39;00m\u001b[38;5;21;01m.\u001b[39;00m\u001b[38;5;21;01mall\u001b[39;00m \u001b[38;5;28;01mimport\u001b[39;00m \u001b[38;5;241m*\u001b[39m\n\u001b[0;32m----> 6\u001b[0m \u001b[38;5;28;01mfrom\u001b[39;00m \u001b[38;5;21;01mopenalea\u001b[39;00m\u001b[38;5;21;01m.\u001b[39;00m\u001b[38;5;21;01mfractalysis\u001b[39;00m\u001b[38;5;21;01m.\u001b[39;00m\u001b[38;5;21;01mlight\u001b[39;00m\u001b[38;5;21;01m.\u001b[39;00m\u001b[38;5;21;01mdirectLight\u001b[39;00m \u001b[38;5;28;01mimport\u001b[39;00m diffuseInterception\n\u001b[1;32m      7\u001b[0m \u001b[38;5;66;03m#from vplants.fractalysis.light.directLight import diffuseInterception\u001b[39;00m\n\u001b[1;32m      8\u001b[0m \u001b[38;5;28;01mimport\u001b[39;00m \u001b[38;5;21;01mopenalea\u001b[39;00m\u001b[38;5;21;01m.\u001b[39;00m\u001b[38;5;21;01mfractalysis\u001b[39;00m\u001b[38;5;21;01m.\u001b[39;00m\u001b[38;5;21;01mfractutils\u001b[39;00m \u001b[38;5;28;01mas\u001b[39;00m \u001b[38;5;21;01mfruti\u001b[39;00m\n",
      "\u001b[0;31mModuleNotFoundError\u001b[0m: No module named 'openalea.fractalysis'"
     ]
    }
   ],
   "source": [
    "lsys = lpy.Lsystem('../vmapplet/vmapplet.lpy')"
   ]
  },
  {
   "cell_type": "code",
   "execution_count": null,
   "id": "490096fe-fbd7-4c74-8528-ead354ad0212",
   "metadata": {},
   "outputs": [],
   "source": []
  }
 ],
 "metadata": {
  "kernelspec": {
   "display_name": "Python 3 (ipykernel)",
   "language": "python",
   "name": "python3"
  },
  "language_info": {
   "codemirror_mode": {
    "name": "ipython",
    "version": 3
   },
   "file_extension": ".py",
   "mimetype": "text/x-python",
   "name": "python",
   "nbconvert_exporter": "python",
   "pygments_lexer": "ipython3",
   "version": "3.9.12"
  },
  "widgets": {
   "application/vnd.jupyter.widget-state+json": {
    "state": {},
    "version_major": 2,
    "version_minor": 0
   }
  }
 },
 "nbformat": 4,
 "nbformat_minor": 5
}
