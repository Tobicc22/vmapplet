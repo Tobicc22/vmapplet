{
 "cells": [
  {
   "cell_type": "code",
   "execution_count": 1,
   "id": "c53a8105-14b5-437b-91ce-604152bb9c61",
   "metadata": {},
   "outputs": [],
   "source": [
    "import openalea.lpy as lpy\n",
    "from pgljupyter import SceneWidget"
   ]
  },
  {
   "cell_type": "code",
   "execution_count": 2,
   "id": "4a153d4b-ae9d-409a-a941-736c66977b0c",
   "metadata": {},
   "outputs": [
    {
     "name": "stderr",
     "output_type": "stream",
     "text": [
      "vmapplet.lpy:753: Warning: IndentationWarning: missing indent.\n",
      "vmapplet.lpy:766: Warning: IndentationWarning: missing indent.\n",
      "vmapplet.lpy:777: Warning: IndentationWarning: missing indent.\n",
      "vmapplet.lpy:791: Warning: IndentationWarning: missing indent.\n",
      "vmapplet.lpy:801: Warning: IndentationWarning: missing indent.\n",
      "vmapplet.lpy:811: Warning: IndentationWarning: missing indent.\n",
      "vmapplet.lpy:816: Warning: IndentationWarning: missing indent.\n",
      "vmapplet.lpy:833: Warning: IndentationWarning: missing indent.\n",
      "vmapplet.lpy:840: Warning: IndentationWarning: missing indent.\n",
      "vmapplet.lpy:847: Warning: IndentationWarning: missing indent.\n",
      "vmapplet.lpy:849: Warning: IndentationWarning: missing indent.\n",
      "vmapplet.lpy:874: Warning: IndentationWarning: missing indent.\n",
      "vmapplet.lpy:880: Warning: IndentationWarning: missing indent.\n",
      "vmapplet.lpy:889: Warning: IndentationWarning: missing indent.\n",
      "vmapplet.lpy:892: Warning: IndentationWarning: missing indent.\n",
      "vmapplet.lpy:913: Warning: IndentationWarning: missing indent.\n",
      "vmapplet.lpy:919: Warning: IndentationWarning: missing indent.\n",
      "vmapplet.lpy:926: Warning: IndentationWarning: missing indent.\n",
      "vmapplet.lpy:930: Warning: IndentationWarning: missing indent.\n",
      "vmapplet.lpy:953: Warning: IndentationWarning: missing indent.\n",
      "vmapplet.lpy:961: Warning: IndentationWarning: missing indent.\n",
      "vmapplet.lpy:964: Warning: IndentationWarning: missing indent.\n",
      "vmapplet.lpy:973: Warning: IndentationWarning: missing indent.\n",
      "vmapplet.lpy:989: Warning: IndentationWarning: missing indent.\n",
      "vmapplet.lpy:997: Warning: IndentationWarning: missing indent.\n",
      "vmapplet.lpy:999: Warning: IndentationWarning: missing indent.\n",
      "vmapplet.lpy:1042: Warning: IndentationWarning: missing indent.\n",
      "vmapplet.lpy:1081: Warning: IndentationWarning: missing indent.\n",
      "vmapplet.lpy:1083: Warning: IndentationWarning: missing indent.\n",
      "vmapplet.lpy:1089: Warning: IndentationWarning: missing indent.\n",
      "vmapplet.lpy:1097: Warning: IndentationWarning: missing indent.\n",
      "vmapplet.lpy:1102: Warning: IndentationWarning: missing indent.\n",
      "vmapplet.lpy:1105: Warning: IndentationWarning: missing indent.\n",
      "vmapplet.lpy:1116: Warning: IndentationWarning: missing indent.\n"
     ]
    },
    {
     "name": "stdout",
     "output_type": "stream",
     "text": [
      "WARNING using non optimised code\n",
      "WARNING using non optimised code\n",
      "PararunResults/\n"
     ]
    }
   ],
   "source": [
    "lsys = lpy.Lsystem('../vmapplet/vmapplet.lpy')"
   ]
  },
  {
   "cell_type": "code",
   "execution_count": 3,
   "id": "fc3bbdb2-c20d-4ab7-bfc9-c0eac910196d",
   "metadata": {},
   "outputs": [],
   "source": [
    "s = lsys.sceneInterpretation(lsys.axiom)"
   ]
  },
  {
   "cell_type": "code",
   "execution_count": 4,
   "id": "126b4b65-cb2c-4af8-a279-6b96d5ef0a3f",
   "metadata": {},
   "outputs": [
    {
     "data": {
      "text/plain": [
       "0"
      ]
     },
     "execution_count": 4,
     "metadata": {},
     "output_type": "execute_result"
    }
   ],
   "source": [
    "len(s)"
   ]
  },
  {
   "cell_type": "code",
   "execution_count": 5,
   "id": "d1280f03-ce9e-4b3e-8ed2-5013819b698c",
   "metadata": {},
   "outputs": [
    {
     "name": "stdout",
     "output_type": "stream",
     "text": [
      "opening file PararunResults/shoots_test_110.0.csv\n",
      "opening file PararunResults/sequences_test_110.0.seq\n",
      "opening file PararunResults/trunk_test_110.0.csv\n",
      "opening file PararunResults/counts_test_110.0.csv\n",
      "Simulation # 0 enters month 1 of year 2\n"
     ]
    },
    {
     "ename": "ZeroDivisionError",
     "evalue": "division by zero",
     "output_type": "error",
     "traceback": [
      "\u001b[0;31m---------------------------------------------------------------------------\u001b[0m",
      "\u001b[0;31mZeroDivisionError\u001b[0m                         Traceback (most recent call last)",
      "Input \u001b[0;32mIn [5]\u001b[0m, in \u001b[0;36m<cell line: 1>\u001b[0;34m()\u001b[0m\n\u001b[0;32m----> 1\u001b[0m \u001b[43mlsys\u001b[49m\u001b[38;5;241;43m.\u001b[39;49m\u001b[43mderive\u001b[49m\u001b[43m(\u001b[49m\u001b[38;5;241;43m1\u001b[39;49m\u001b[43m)\u001b[49m\n",
      "File \u001b[0;32m<string>:381\u001b[0m, in \u001b[0;36mStartEach\u001b[0;34m()\u001b[0m\n",
      "\u001b[0;31mZeroDivisionError\u001b[0m: division by zero"
     ]
    }
   ],
   "source": [
    "lsys.derive(1)"
   ]
  },
  {
   "cell_type": "code",
   "execution_count": null,
   "id": "61f398b7-99af-4102-8810-2976b304ddd8",
   "metadata": {},
   "outputs": [],
   "source": []
  }
 ],
 "metadata": {
  "kernelspec": {
   "display_name": "Python 3 (ipykernel)",
   "language": "python",
   "name": "python3"
  },
  "language_info": {
   "codemirror_mode": {
    "name": "ipython",
    "version": 3
   },
   "file_extension": ".py",
   "mimetype": "text/x-python",
   "name": "python",
   "nbconvert_exporter": "python",
   "pygments_lexer": "ipython3",
   "version": "3.9.12"
  },
  "widgets": {
   "application/vnd.jupyter.widget-state+json": {
    "state": {},
    "version_major": 2,
    "version_minor": 0
   }
  }
 },
 "nbformat": 4,
 "nbformat_minor": 5
}
