{
 "cells": [
  {
   "cell_type": "code",
   "execution_count": 1,
   "id": "c53a8105-14b5-437b-91ce-604152bb9c61",
   "metadata": {},
   "outputs": [],
   "source": [
    "import openalea.lpy as lpy\n",
    "from pgljupyter import SceneWidget"
   ]
  },
  {
   "cell_type": "code",
   "execution_count": 2,
   "id": "4a153d4b-ae9d-409a-a941-736c66977b0c",
   "metadata": {},
   "outputs": [
    {
     "name": "stderr",
     "output_type": "stream",
     "text": [
      "vmapplet.lpy:753: Warning: IndentationWarning: missing indent.\n",
      "vmapplet.lpy:766: Warning: IndentationWarning: missing indent.\n",
      "vmapplet.lpy:777: Warning: IndentationWarning: missing indent.\n",
      "vmapplet.lpy:791: Warning: IndentationWarning: missing indent.\n",
      "vmapplet.lpy:801: Warning: IndentationWarning: missing indent.\n",
      "vmapplet.lpy:811: Warning: IndentationWarning: missing indent.\n",
      "vmapplet.lpy:816: Warning: IndentationWarning: missing indent.\n",
      "vmapplet.lpy:833: Warning: IndentationWarning: missing indent.\n",
      "vmapplet.lpy:840: Warning: IndentationWarning: missing indent.\n",
      "vmapplet.lpy:847: Warning: IndentationWarning: missing indent.\n",
      "vmapplet.lpy:849: Warning: IndentationWarning: missing indent.\n",
      "vmapplet.lpy:875: Warning: IndentationWarning: missing indent.\n",
      "vmapplet.lpy:881: Warning: IndentationWarning: missing indent.\n",
      "vmapplet.lpy:890: Warning: IndentationWarning: missing indent.\n",
      "vmapplet.lpy:893: Warning: IndentationWarning: missing indent.\n",
      "vmapplet.lpy:915: Warning: IndentationWarning: missing indent.\n",
      "vmapplet.lpy:921: Warning: IndentationWarning: missing indent.\n",
      "vmapplet.lpy:928: Warning: IndentationWarning: missing indent.\n",
      "vmapplet.lpy:932: Warning: IndentationWarning: missing indent.\n",
      "vmapplet.lpy:955: Warning: IndentationWarning: missing indent.\n",
      "vmapplet.lpy:963: Warning: IndentationWarning: missing indent.\n",
      "vmapplet.lpy:966: Warning: IndentationWarning: missing indent.\n",
      "vmapplet.lpy:975: Warning: IndentationWarning: missing indent.\n",
      "vmapplet.lpy:991: Warning: IndentationWarning: missing indent.\n",
      "vmapplet.lpy:999: Warning: IndentationWarning: missing indent.\n",
      "vmapplet.lpy:1001: Warning: IndentationWarning: missing indent.\n",
      "vmapplet.lpy:1044: Warning: IndentationWarning: missing indent.\n",
      "vmapplet.lpy:1083: Warning: IndentationWarning: missing indent.\n",
      "vmapplet.lpy:1085: Warning: IndentationWarning: missing indent.\n",
      "vmapplet.lpy:1091: Warning: IndentationWarning: missing indent.\n",
      "vmapplet.lpy:1099: Warning: IndentationWarning: missing indent.\n",
      "vmapplet.lpy:1104: Warning: IndentationWarning: missing indent.\n",
      "vmapplet.lpy:1107: Warning: IndentationWarning: missing indent.\n",
      "vmapplet.lpy:1118: Warning: IndentationWarning: missing indent.\n"
     ]
    },
    {
     "name": "stdout",
     "output_type": "stream",
     "text": [
      "WARNING using non optimised code\n",
      "PararunResults/\n"
     ]
    }
   ],
   "source": [
    "ls = lpy.Lsystem('../vmapplet/vmapplet.lpy')"
   ]
  },
  {
   "cell_type": "code",
   "execution_count": 3,
   "id": "f4e4ddad-ba3d-40c8-9ecc-28740c010452",
   "metadata": {},
   "outputs": [
    {
     "data": {
      "application/vnd.jupyter.widget-view+json": {
       "model_id": "e8be0050219c4f2fb67316f0cbeee0b7",
       "version_major": 2,
       "version_minor": 0
      },
      "text/plain": [
       "SceneWidget(scenes=[{'id': '9vLWbSglI9RGNXfef5lb8jy8P', 'data': b'x\\xdaSLrw\\xf5\\xf7e`Pp\\xe0\\xe5RPVVd\\x00\\x020\\…"
      ]
     },
     "metadata": {},
     "output_type": "display_data"
    }
   ],
   "source": [
    "tree = ls.axiom\n",
    "sw = SceneWidget(ls.sceneInterpretation(tree), scale=0.1, size_display=(800,600))\n",
    "sw"
   ]
  },
  {
   "cell_type": "code",
   "execution_count": 4,
   "id": "fc3bbdb2-c20d-4ab7-bfc9-c0eac910196d",
   "metadata": {},
   "outputs": [
    {
     "name": "stdout",
     "output_type": "stream",
     "text": [
      "There are 167 sequences in the files\n"
     ]
    },
    {
     "ename": "KeyboardInterrupt",
     "evalue": "",
     "output_type": "error",
     "traceback": [
      "\u001b[0;31m---------------------------------------------------------------------------\u001b[0m",
      "\u001b[0;31mKeyboardInterrupt\u001b[0m                         Traceback (most recent call last)",
      "Input \u001b[0;32mIn [4]\u001b[0m, in \u001b[0;36m<cell line: 3>\u001b[0;34m()\u001b[0m\n\u001b[1;32m      4\u001b[0m tree \u001b[38;5;241m=\u001b[39m ls\u001b[38;5;241m.\u001b[39mderive(tree, i, step)\n\u001b[1;32m      5\u001b[0m \u001b[38;5;28;01mif\u001b[39;00m i \u001b[38;5;241m%\u001b[39m step \u001b[38;5;241m==\u001b[39m \u001b[38;5;241m0\u001b[39m:\n\u001b[0;32m----> 6\u001b[0m     \u001b[43msw\u001b[49m\u001b[38;5;241;43m.\u001b[39;49m\u001b[43mset_scenes\u001b[49m\u001b[43m(\u001b[49m\u001b[43mls\u001b[49m\u001b[38;5;241;43m.\u001b[39;49m\u001b[43msceneInterpretation\u001b[49m\u001b[43m(\u001b[49m\u001b[43mtree\u001b[49m\u001b[43m)\u001b[49m\u001b[43m,\u001b[49m\u001b[43m \u001b[49m\u001b[43mscales\u001b[49m\u001b[38;5;241;43m=\u001b[39;49m\u001b[38;5;241;43m0.1\u001b[39;49m\u001b[43m)\u001b[49m\n",
      "File \u001b[0;32m~/miniconda3/envs/vmapplet/lib/python3.9/site-packages/pgljupyter/widgets.py:153\u001b[0m, in \u001b[0;36mSceneWidget.set_scenes\u001b[0;34m(self, objs, positions, scales)\u001b[0m\n\u001b[1;32m    151\u001b[0m     \u001b[38;5;28;01mif\u001b[39;00m i \u001b[38;5;241m==\u001b[39m \u001b[38;5;28mlen\u001b[39m(scenes):\n\u001b[1;32m    152\u001b[0m         scene \u001b[38;5;241m=\u001b[39m to_scene(obj)\n\u001b[0;32m--> 153\u001b[0m         serialized \u001b[38;5;241m=\u001b[39m \u001b[43mserialize_scene\u001b[49m\u001b[43m(\u001b[49m\u001b[43mscene\u001b[49m\u001b[43m)\u001b[49m\n\u001b[1;32m    154\u001b[0m         scenes\u001b[38;5;241m.\u001b[39mappend({\n\u001b[1;32m    155\u001b[0m             \u001b[38;5;124m'\u001b[39m\u001b[38;5;124mid\u001b[39m\u001b[38;5;124m'\u001b[39m: \u001b[38;5;124m'\u001b[39m\u001b[38;5;124m'\u001b[39m\u001b[38;5;241m.\u001b[39mjoin(random\u001b[38;5;241m.\u001b[39mchoices(string\u001b[38;5;241m.\u001b[39mascii_letters \u001b[38;5;241m+\u001b[39m string\u001b[38;5;241m.\u001b[39mdigits, k\u001b[38;5;241m=\u001b[39m\u001b[38;5;241m100\u001b[39m)),\n\u001b[1;32m    156\u001b[0m             \u001b[38;5;124m'\u001b[39m\u001b[38;5;124mdata\u001b[39m\u001b[38;5;124m'\u001b[39m: serialized,\n\u001b[0;32m   (...)\u001b[0m\n\u001b[1;32m    159\u001b[0m             \u001b[38;5;124m'\u001b[39m\u001b[38;5;124mscale\u001b[39m\u001b[38;5;124m'\u001b[39m:  scales[i] \u001b[38;5;28;01mif\u001b[39;00m \u001b[38;5;28mtype\u001b[39m(scales) \u001b[38;5;241m==\u001b[39m \u001b[38;5;28mlist\u001b[39m \u001b[38;5;28;01melse\u001b[39;00m scales\n\u001b[1;32m    160\u001b[0m         })\n\u001b[1;32m    161\u001b[0m \u001b[38;5;28mself\u001b[39m\u001b[38;5;241m.\u001b[39mscenes \u001b[38;5;241m=\u001b[39m scenes\n",
      "File \u001b[0;32m~/miniconda3/envs/vmapplet/lib/python3.9/site-packages/pgljupyter/widgets.py:69\u001b[0m, in \u001b[0;36mserialize_scene\u001b[0;34m(scene)\u001b[0m\n\u001b[1;32m     68\u001b[0m \u001b[38;5;28;01mdef\u001b[39;00m \u001b[38;5;21mserialize_scene\u001b[39m(scene):\n\u001b[0;32m---> 69\u001b[0m     \u001b[38;5;28;01mreturn\u001b[39;00m \u001b[43mscene_to_bytes\u001b[49m\u001b[43m(\u001b[49m\u001b[43mscene\u001b[49m\u001b[43m)\u001b[49m\n",
      "File \u001b[0;32m~/miniconda3/envs/vmapplet/lib/python3.9/site-packages/pgljupyter/widgets.py:40\u001b[0m, in \u001b[0;36mscene_to_bytes\u001b[0;34m(scene)\u001b[0m\n\u001b[1;32m     36\u001b[0m \u001b[38;5;28;01mdef\u001b[39;00m \u001b[38;5;21mscene_to_bytes\u001b[39m(scene):\n\u001b[1;32m     37\u001b[0m     \u001b[38;5;66;03m# serialized = pgl_scene_to_bytes(scene, single_mesh)\u001b[39;00m\n\u001b[1;32m     38\u001b[0m     \u001b[38;5;66;03m# if not serialized.status:\u001b[39;00m\n\u001b[1;32m     39\u001b[0m     \u001b[38;5;66;03m#     raise ValueError('scene serialization failed')\u001b[39;00m\n\u001b[0;32m---> 40\u001b[0m     \u001b[38;5;28;01mreturn\u001b[39;00m zlib\u001b[38;5;241m.\u001b[39mcompress(\u001b[43mpgl\u001b[49m\u001b[38;5;241;43m.\u001b[39;49m\u001b[43mtobinarystring\u001b[49m\u001b[43m(\u001b[49m\u001b[43mscene\u001b[49m\u001b[43m,\u001b[49m\u001b[43m \u001b[49m\u001b[38;5;28;43;01mFalse\u001b[39;49;00m\u001b[43m)\u001b[49m, \u001b[38;5;241m9\u001b[39m)\n",
      "\u001b[0;31mKeyboardInterrupt\u001b[0m: "
     ]
    }
   ],
   "source": [
    "step = 10\n",
    "stop = ls.derivationLength\n",
    "for i in range(0, stop, step):\n",
    "    tree = ls.derive(tree, i, step)\n",
    "    if i % step == 0:\n",
    "        sw.set_scenes(ls.sceneInterpretation(tree), scales=0.1)"
   ]
  },
  {
   "cell_type": "code",
   "execution_count": null,
   "id": "d6498e1a-6ab1-4650-827d-6052d32c4514",
   "metadata": {},
   "outputs": [],
   "source": []
  }
 ],
 "metadata": {
  "kernelspec": {
   "display_name": "Python 3 (ipykernel)",
   "language": "python",
   "name": "python3"
  },
  "language_info": {
   "codemirror_mode": {
    "name": "ipython",
    "version": 3
   },
   "file_extension": ".py",
   "mimetype": "text/x-python",
   "name": "python",
   "nbconvert_exporter": "python",
   "pygments_lexer": "ipython3",
   "version": "3.9.12"
  },
  "widgets": {
   "application/vnd.jupyter.widget-state+json": {
    "state": {
     "9578290d0ef0418e8b9854bef511280e": {
      "model_module": "@jupyter-widgets/base",
      "model_module_version": "1.2.0",
      "model_name": "LayoutModel",
      "state": {}
     },
     "e8be0050219c4f2fb67316f0cbeee0b7": {
      "buffers": [
       {
        "data": "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",
        "encoding": "base64",
        "path": [
         "scenes",
         0,
         "data"
        ]
       }
      ],
      "model_module": "pgljupyter",
      "model_module_version": "^1.2.0",
      "model_name": "SceneWidgetModel",
      "state": {
       "_model_module_version": "^1.2.0",
       "_view_module_version": "^1.2.0",
       "axes_helper": false,
       "layout": "IPY_MODEL_9578290d0ef0418e8b9854bef511280e",
       "light_helper": false,
       "plane": true,
       "scenes": [
        {
         "id": "Vld2G0wMGHwM5WWLhoBdWtd3Vsunqok7gpVTFDf8ZS5bs8oIH70MygeXNmIwXRsgwjeY3Vc2ciPRjpaq6m46Vq9SOgPEajvTrRXX",
         "position": [
          0,
          0,
          0
         ],
         "scale": 0.1,
         "scene": "<openalea.plantgl.scenegraph._pglsg.Scene object at 0x7f4a016ada60>"
        }
       ],
       "size_display": [
        800,
        600
       ],
       "size_world": 1
      }
     }
    },
    "version_major": 2,
    "version_minor": 0
   }
  }
 },
 "nbformat": 4,
 "nbformat_minor": 5
}
