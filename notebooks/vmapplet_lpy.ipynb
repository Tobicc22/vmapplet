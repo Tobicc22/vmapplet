{
 "cells": [
  {
   "cell_type": "code",
   "execution_count": 1,
   "id": "c53a8105-14b5-437b-91ce-604152bb9c61",
   "metadata": {},
   "outputs": [],
   "source": [
    "import openalea.lpy as lpy\n",
    "from pgljupyter import SceneWidget"
   ]
  },
  {
   "cell_type": "code",
   "execution_count": 2,
   "id": "4a153d4b-ae9d-409a-a941-736c66977b0c",
   "metadata": {},
   "outputs": [],
   "source": [
    "ls = lpy.Lsystem('../vmapplet/vmapplet.lpy')"
   ]
  },
  {
   "cell_type": "code",
   "execution_count": 3,
   "id": "f4e4ddad-ba3d-40c8-9ecc-28740c010452",
   "metadata": {},
   "outputs": [
    {
     "data": {
      "application/vnd.jupyter.widget-view+json": {
       "model_id": "2e24c572497046aabebc85fa2effaa01",
       "version_major": 2,
       "version_minor": 0
      },
      "text/plain": [
       "SceneWidget(scenes=[{'id': 'N0Jd75VFMn171uIa65YfEJ5SO', 'data': b'x\\xdaSLrw\\xf5\\xf7e`Pp\\xe0\\xe5RPVVd\\x00\\x020\\…"
      ]
     },
     "metadata": {},
     "output_type": "display_data"
    }
   ],
   "source": [
    "tree = ls.axiom\n",
    "sw = SceneWidget(ls.sceneInterpretation(tree), scale=0.1, size_display=(400,400))\n",
    "sw"
   ]
  },
  {
   "cell_type": "code",
   "execution_count": 4,
   "id": "fc3bbdb2-c20d-4ab7-bfc9-c0eac910196d",
   "metadata": {},
   "outputs": [
    {
     "name": "stdout",
     "output_type": "stream",
     "text": [
      "There are 167 sequences in the files\n"
     ]
    },
    {
     "ename": "KeyboardInterrupt",
     "evalue": "",
     "output_type": "error",
     "traceback": [
      "\u001b[0;31m---------------------------------------------------------------------------\u001b[0m",
      "\u001b[0;31mKeyboardInterrupt\u001b[0m                         Traceback (most recent call last)",
      "Input \u001b[0;32mIn [4]\u001b[0m, in \u001b[0;36m<cell line: 3>\u001b[0;34m()\u001b[0m\n\u001b[1;32m      2\u001b[0m stop \u001b[38;5;241m=\u001b[39m ls\u001b[38;5;241m.\u001b[39mderivationLength\n\u001b[1;32m      3\u001b[0m \u001b[38;5;28;01mfor\u001b[39;00m i \u001b[38;5;129;01min\u001b[39;00m \u001b[38;5;28mrange\u001b[39m(\u001b[38;5;241m0\u001b[39m, stop, step):\n\u001b[0;32m----> 4\u001b[0m     tree \u001b[38;5;241m=\u001b[39m \u001b[43mls\u001b[49m\u001b[38;5;241;43m.\u001b[39;49m\u001b[43mderive\u001b[49m\u001b[43m(\u001b[49m\u001b[43mtree\u001b[49m\u001b[43m,\u001b[49m\u001b[43m \u001b[49m\u001b[43mi\u001b[49m\u001b[43m,\u001b[49m\u001b[43m \u001b[49m\u001b[43mstep\u001b[49m\u001b[43m)\u001b[49m\n\u001b[1;32m      5\u001b[0m     \u001b[38;5;28;01mif\u001b[39;00m i \u001b[38;5;241m%\u001b[39m step \u001b[38;5;241m==\u001b[39m \u001b[38;5;241m0\u001b[39m:\n\u001b[1;32m      6\u001b[0m         sw\u001b[38;5;241m.\u001b[39mset_scenes(ls\u001b[38;5;241m.\u001b[39msceneInterpretation(tree), scales\u001b[38;5;241m=\u001b[39m\u001b[38;5;241m0.1\u001b[39m)\n",
      "File \u001b[0;32m<string>:669\u001b[0m, in \u001b[0;36m__p_1_1_metamer_ml_metamer_m_\u001b[0;34m(ml, m)\u001b[0m\n",
      "File \u001b[0;32m~/dev/jvail/INRAE/vmapplet/vmapplet/optimisation.py:22\u001b[0m, in \u001b[0;36mreorient_frame\u001b[0;34m(initial_hlu, rotation_velocity, rv_norm, length)\u001b[0m\n\u001b[1;32m     20\u001b[0m h \u001b[38;5;241m=\u001b[39m pgl\u001b[38;5;241m.\u001b[39mVector3(initial_hlu\u001b[38;5;241m.\u001b[39mheading)\n\u001b[1;32m     21\u001b[0m h\u001b[38;5;241m.\u001b[39mnormalize()\n\u001b[0;32m---> 22\u001b[0m l \u001b[38;5;241m=\u001b[39m \u001b[43mpgl\u001b[49m\u001b[38;5;241;43m.\u001b[39;49m\u001b[43mVector3\u001b[49m(initial_hlu\u001b[38;5;241m.\u001b[39mleft)\n\u001b[1;32m     23\u001b[0m l\u001b[38;5;241m.\u001b[39mnormalize()\n\u001b[1;32m     25\u001b[0m \u001b[38;5;66;03m#vl = rotation_velocity.normalize() #_ look at v3d length definition\u001b[39;00m\n\u001b[1;32m     26\u001b[0m \u001b[38;5;66;03m#vl is replaced by rv_norm\u001b[39;00m\n",
      "\u001b[0;31mKeyboardInterrupt\u001b[0m: "
     ]
    }
   ],
   "source": [
    "step = 250\n",
    "stop = ls.derivationLength\n",
    "for i in range(0, stop, step):\n",
    "    tree = ls.derive(tree, i, step)\n",
    "    if i % step == 0:\n",
    "        sw.set_scenes(ls.sceneInterpretation(tree), scales=0.1)"
   ]
  },
  {
   "cell_type": "code",
   "execution_count": null,
   "id": "d6498e1a-6ab1-4650-827d-6052d32c4514",
   "metadata": {},
   "outputs": [],
   "source": []
  }
 ],
 "metadata": {
  "kernelspec": {
   "display_name": "Python 3 (ipykernel)",
   "language": "python",
   "name": "python3"
  },
  "language_info": {
   "codemirror_mode": {
    "name": "ipython",
    "version": 3
   },
   "file_extension": ".py",
   "mimetype": "text/x-python",
   "name": "python",
   "nbconvert_exporter": "python",
   "pygments_lexer": "ipython3",
   "version": "3.9.12"
  },
  "widgets": {
   "application/vnd.jupyter.widget-state+json": {
    "state": {
     "2e24c572497046aabebc85fa2effaa01": {
      "buffers": [
       {
        "data": "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",
        "encoding": "base64",
        "path": [
         "scenes",
         0,
         "data"
        ]
       }
      ],
      "model_module": "pgljupyter",
      "model_module_version": "^1.2.0",
      "model_name": "SceneWidgetModel",
      "state": {
       "_model_module_version": "^1.2.0",
       "_view_module_version": "^1.2.0",
       "axes_helper": false,
       "layout": "IPY_MODEL_593dfca8ad554283845bb7f7754935a0",
       "light_helper": false,
       "plane": true,
       "scenes": [
        {
         "id": "ffdCegJlIp2HXfxpns6TbzjQF7qjrp7UuhUqPYxXBDvF9wFvt3UrGi6v4TdohHu99FtQykAtT27R4j0S66Ckcfg2jytITXvzWlW3",
         "position": [
          0,
          0,
          0
         ],
         "scale": 0.1,
         "scene": "<openalea.plantgl.scenegraph._pglsg.Scene object at 0x7fba765cdca0>"
        }
       ],
       "size_display": [
        400,
        400
       ],
       "size_world": 1
      }
     },
     "593dfca8ad554283845bb7f7754935a0": {
      "model_module": "@jupyter-widgets/base",
      "model_module_version": "1.2.0",
      "model_name": "LayoutModel",
      "state": {}
     }
    },
    "version_major": 2,
    "version_minor": 0
   }
  }
 },
 "nbformat": 4,
 "nbformat_minor": 5
}
