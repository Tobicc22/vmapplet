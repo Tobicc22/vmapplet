{
 "cells": [
  {
   "cell_type": "code",
   "execution_count": null,
   "id": "c53a8105-14b5-437b-91ce-604152bb9c61",
   "metadata": {},
   "outputs": [],
   "source": [
    "import openalea.lpy as lpy\n",
    "from pgljupyter import SceneWidget"
   ]
  },
  {
   "cell_type": "code",
   "execution_count": null,
   "id": "4a153d4b-ae9d-409a-a941-736c66977b0c",
   "metadata": {},
   "outputs": [],
   "source": [
    "lsys = lpy.Lsystem('../vmapplet/vmapplet.lpy')"
   ]
  },
  {
   "cell_type": "code",
   "execution_count": null,
   "id": "fc3bbdb2-c20d-4ab7-bfc9-c0eac910196d",
   "metadata": {},
   "outputs": [],
   "source": [
    "s = lsys.sceneInterpretation(lsys.axiom)"
   ]
  },
  {
   "cell_type": "code",
   "execution_count": null,
   "id": "126b4b65-cb2c-4af8-a279-6b96d5ef0a3f",
   "metadata": {},
   "outputs": [],
   "source": [
    "len(s)"
   ]
  },
  {
   "cell_type": "code",
   "execution_count": null,
   "id": "d1280f03-ce9e-4b3e-8ed2-5013819b698c",
   "metadata": {},
   "outputs": [],
   "source": [
    "tree = lsys.derive(100)"
   ]
  },
  {
   "cell_type": "code",
   "execution_count": null,
   "id": "61f398b7-99af-4102-8810-2976b304ddd8",
   "metadata": {},
   "outputs": [],
   "source": [
    "SceneWidget(lsys.sceneInterpretation(tree), scale=0.01)"
   ]
  },
  {
   "cell_type": "code",
   "execution_count": null,
   "id": "7135b75d-a3c5-4c1d-8889-b92132e052e2",
   "metadata": {},
   "outputs": [],
   "source": [
    "%lpy_plot ../vmapplet/vmapplet.lpy -c 50 -s 500,400"
   ]
  },
  {
   "cell_type": "code",
   "execution_count": null,
   "id": "1c9e6110-7d85-4b6d-b877-c46077a7bf7c",
   "metadata": {},
   "outputs": [],
   "source": []
  }
 ],
 "metadata": {
  "kernelspec": {
   "display_name": "Python 3 (ipykernel)",
   "language": "python",
   "name": "python3"
  },
  "language_info": {
   "codemirror_mode": {
    "name": "ipython",
    "version": 3
   },
   "file_extension": ".py",
   "mimetype": "text/x-python",
   "name": "python",
   "nbconvert_exporter": "python",
   "pygments_lexer": "ipython3",
   "version": "3.9.12"
  },
  "widgets": {
   "application/vnd.jupyter.widget-state+json": {
    "state": {},
    "version_major": 2,
    "version_minor": 0
   }
  }
 },
 "nbformat": 4,
 "nbformat_minor": 5
}
