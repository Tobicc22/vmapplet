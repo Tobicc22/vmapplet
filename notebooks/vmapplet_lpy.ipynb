{
 "cells": [
  {
   "cell_type": "code",
   "execution_count": 1,
   "id": "c53a8105-14b5-437b-91ce-604152bb9c61",
   "metadata": {},
   "outputs": [],
   "source": [
    "import openalea.lpy as lpy\n",
    "from pgljupyter import SceneWidget"
   ]
  },
  {
   "cell_type": "code",
   "execution_count": 2,
   "id": "4a153d4b-ae9d-409a-a941-736c66977b0c",
   "metadata": {},
   "outputs": [
    {
     "name": "stderr",
     "output_type": "stream",
     "text": [
      "vmapplet.lpy:754: Warning: IndentationWarning: missing indent.\n",
      "vmapplet.lpy:767: Warning: IndentationWarning: missing indent.\n",
      "vmapplet.lpy:778: Warning: IndentationWarning: missing indent.\n",
      "vmapplet.lpy:792: Warning: IndentationWarning: missing indent.\n",
      "vmapplet.lpy:802: Warning: IndentationWarning: missing indent.\n",
      "vmapplet.lpy:812: Warning: IndentationWarning: missing indent.\n",
      "vmapplet.lpy:817: Warning: IndentationWarning: missing indent.\n",
      "vmapplet.lpy:834: Warning: IndentationWarning: missing indent.\n",
      "vmapplet.lpy:841: Warning: IndentationWarning: missing indent.\n",
      "vmapplet.lpy:848: Warning: IndentationWarning: missing indent.\n",
      "vmapplet.lpy:850: Warning: IndentationWarning: missing indent.\n",
      "vmapplet.lpy:875: Warning: IndentationWarning: missing indent.\n",
      "vmapplet.lpy:881: Warning: IndentationWarning: missing indent.\n",
      "vmapplet.lpy:890: Warning: IndentationWarning: missing indent.\n",
      "vmapplet.lpy:893: Warning: IndentationWarning: missing indent.\n",
      "vmapplet.lpy:914: Warning: IndentationWarning: missing indent.\n",
      "vmapplet.lpy:920: Warning: IndentationWarning: missing indent.\n",
      "vmapplet.lpy:927: Warning: IndentationWarning: missing indent.\n",
      "vmapplet.lpy:931: Warning: IndentationWarning: missing indent.\n",
      "vmapplet.lpy:954: Warning: IndentationWarning: missing indent.\n",
      "vmapplet.lpy:962: Warning: IndentationWarning: missing indent.\n",
      "vmapplet.lpy:965: Warning: IndentationWarning: missing indent.\n",
      "vmapplet.lpy:974: Warning: IndentationWarning: missing indent.\n",
      "vmapplet.lpy:990: Warning: IndentationWarning: missing indent.\n",
      "vmapplet.lpy:998: Warning: IndentationWarning: missing indent.\n",
      "vmapplet.lpy:1000: Warning: IndentationWarning: missing indent.\n",
      "vmapplet.lpy:1043: Warning: IndentationWarning: missing indent.\n",
      "vmapplet.lpy:1082: Warning: IndentationWarning: missing indent.\n",
      "vmapplet.lpy:1084: Warning: IndentationWarning: missing indent.\n",
      "vmapplet.lpy:1090: Warning: IndentationWarning: missing indent.\n",
      "vmapplet.lpy:1098: Warning: IndentationWarning: missing indent.\n",
      "vmapplet.lpy:1103: Warning: IndentationWarning: missing indent.\n",
      "vmapplet.lpy:1106: Warning: IndentationWarning: missing indent.\n",
      "vmapplet.lpy:1117: Warning: IndentationWarning: missing indent.\n"
     ]
    },
    {
     "name": "stdout",
     "output_type": "stream",
     "text": [
      "WARNING using non optimised code\n",
      "WARNING using non optimised code\n",
      "PararunResults/\n"
     ]
    }
   ],
   "source": [
    "ls = lpy.Lsystem('../vmapplet/vmapplet.lpy')"
   ]
  },
  {
   "cell_type": "code",
   "execution_count": 3,
   "id": "fc3bbdb2-c20d-4ab7-bfc9-c0eac910196d",
   "metadata": {},
   "outputs": [
    {
     "name": "stdout",
     "output_type": "stream",
     "text": [
      "Simulation # 0 enters month 1 of year 2\n",
      "0 171 days, 0:00:00 171\n"
     ]
    },
    {
     "ename": "NameError",
     "evalue": "name 'tree' is not defined",
     "output_type": "error",
     "traceback": [
      "\u001b[0;31m---------------------------------------------------------------------------\u001b[0m",
      "\u001b[0;31mNameError\u001b[0m                                 Traceback (most recent call last)",
      "Input \u001b[0;32mIn [3]\u001b[0m, in \u001b[0;36m<cell line: 2>\u001b[0;34m()\u001b[0m\n\u001b[1;32m      1\u001b[0m tree \u001b[38;5;241m=\u001b[39m ls\u001b[38;5;241m.\u001b[39maxiom\n\u001b[1;32m      2\u001b[0m \u001b[38;5;28;01mfor\u001b[39;00m i \u001b[38;5;129;01min\u001b[39;00m \u001b[38;5;28mrange\u001b[39m(\u001b[38;5;241m1\u001b[39m, ls\u001b[38;5;241m.\u001b[39mderivationLength):\n\u001b[0;32m----> 3\u001b[0m     tree \u001b[38;5;241m=\u001b[39m \u001b[43mls\u001b[49m\u001b[38;5;241;43m.\u001b[39;49m\u001b[43mderive\u001b[49m\u001b[43m(\u001b[49m\u001b[43mtree\u001b[49m\u001b[43m,\u001b[49m\u001b[43m \u001b[49m\u001b[43mi\u001b[49m\u001b[43m,\u001b[49m\u001b[43m \u001b[49m\u001b[38;5;241;43m1\u001b[39;49m\u001b[43m)\u001b[49m\n",
      "File \u001b[0;32m<string>:650\u001b[0m, in \u001b[0;36m__p_0_0_axiom\u001b[0;34m()\u001b[0m\n",
      "\u001b[0;31mNameError\u001b[0m: name 'tree' is not defined"
     ]
    }
   ],
   "source": [
    "tree = ls.axiom\n",
    "for i in range(1, ls.derivationLength):\n",
    "    tree = ls.derive(tree, i, 1)"
   ]
  },
  {
   "cell_type": "code",
   "execution_count": null,
   "id": "1c9e6110-7d85-4b6d-b877-c46077a7bf7c",
   "metadata": {},
   "outputs": [],
   "source": []
  }
 ],
 "metadata": {
  "kernelspec": {
   "display_name": "Python 3 (ipykernel)",
   "language": "python",
   "name": "python3"
  },
  "language_info": {
   "codemirror_mode": {
    "name": "ipython",
    "version": 3
   },
   "file_extension": ".py",
   "mimetype": "text/x-python",
   "name": "python",
   "nbconvert_exporter": "python",
   "pygments_lexer": "ipython3",
   "version": "3.9.12"
  },
  "widgets": {
   "application/vnd.jupyter.widget-state+json": {
    "state": {},
    "version_major": 2,
    "version_minor": 0
   }
  }
 },
 "nbformat": 4,
 "nbformat_minor": 5
}
