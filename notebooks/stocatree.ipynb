{
 "cells": [
  {
   "cell_type": "code",
   "execution_count": 1,
   "id": "c53a8105-14b5-437b-91ce-604152bb9c61",
   "metadata": {},
   "outputs": [],
   "source": [
    "import io\n",
    "import openalea.lpy as lpy\n",
    "from pgljupyter import SceneWidget"
   ]
  },
  {
   "cell_type": "code",
   "execution_count": 2,
   "id": "f4e4ddad-ba3d-40c8-9ecc-28740c010452",
   "metadata": {
    "tags": []
   },
   "outputs": [
    {
     "data": {
      "application/vnd.jupyter.widget-view+json": {
       "model_id": "5ecb2dfade30442aaccf4a7839a41542",
       "version_major": 2,
       "version_minor": 0
      },
      "text/plain": [
       "SceneWidget(scenes=[{'id': 'NcmWdxJgnR0gJSi7gYRvqOkMc', 'data': b'x\\xdaSLrw\\xf5\\xf7e`Pp\\xe0\\xe5RPVVd\\x00\\x020\\…"
      ]
     },
     "metadata": {},
     "output_type": "display_data"
    }
   ],
   "source": [
    "sw = SceneWidget(scale=0.1, size_display=(600,400))\n",
    "sw"
   ]
  },
  {
   "cell_type": "code",
   "execution_count": 3,
   "id": "fc3bbdb2-c20d-4ab7-bfc9-c0eac910196d",
   "metadata": {},
   "outputs": [
    {
     "name": "stderr",
     "output_type": "stream",
     "text": [
      "/tmp/ipykernel_42361/2442020854.py:6: Warning: Invalid Color value 19 in setColor (maximum is 6)\n",
      "  tree = ls.derive(tree, i, step)\n",
      "/tmp/ipykernel_42361/2442020854.py:6: Warning: Invalid Color value 15 in setColor (maximum is 6)\n",
      "  tree = ls.derive(tree, i, step)\n",
      "/tmp/ipykernel_42361/2442020854.py:8: Warning: Invalid Color value 19 in setColor (maximum is 6)\n",
      "  sw.set_scenes(ls.sceneInterpretation(tree), scales=0.1)\n",
      "/tmp/ipykernel_42361/2442020854.py:8: Warning: Invalid Color value 15 in setColor (maximum is 6)\n",
      "  sw.set_scenes(ls.sceneInterpretation(tree), scales=0.1)\n",
      "/tmp/ipykernel_42361/2442020854.py:6: Warning: Invalid Color value 16 in setColor (maximum is 6)\n",
      "  tree = ls.derive(tree, i, step)\n",
      "/tmp/ipykernel_42361/2442020854.py:8: Warning: Invalid Color value 16 in setColor (maximum is 6)\n",
      "  sw.set_scenes(ls.sceneInterpretation(tree), scales=0.1)\n",
      "/tmp/ipykernel_42361/2442020854.py:6: Warning: Invalid Color value 18 in setColor (maximum is 6)\n",
      "  tree = ls.derive(tree, i, step)\n",
      "/tmp/ipykernel_42361/2442020854.py:6: Warning: Invalid Color value 17 in setColor (maximum is 6)\n",
      "  tree = ls.derive(tree, i, step)\n",
      "/tmp/ipykernel_42361/2442020854.py:6: Warning: Invalid Color value 14 in setColor (maximum is 6)\n",
      "  tree = ls.derive(tree, i, step)\n",
      "/tmp/ipykernel_42361/2442020854.py:8: Warning: Invalid Color value 14 in setColor (maximum is 6)\n",
      "  sw.set_scenes(ls.sceneInterpretation(tree), scales=0.1)\n"
     ]
    }
   ],
   "source": [
    "ls = lpy.Lsystem('../vmapplet/stocatree.lpy')\n",
    "step = 250\n",
    "stop = 10000 # ls.derivationLength\n",
    "tree = ls.axiom\n",
    "for i in range(0, stop, step):\n",
    "    tree = ls.derive(tree, i, step)\n",
    "    #print('tree', len(tree))\n",
    "    sw.set_scenes(ls.sceneInterpretation(tree), scales=0.1)"
   ]
  },
  {
   "cell_type": "code",
   "execution_count": null,
   "id": "486ce849-0811-441c-88ad-17128c644c3b",
   "metadata": {},
   "outputs": [],
   "source": []
  },
  {
   "cell_type": "code",
   "execution_count": null,
   "id": "6038ee3e-c721-4b83-a80f-2466a46db2a7",
   "metadata": {},
   "outputs": [],
   "source": []
  },
  {
   "cell_type": "code",
   "execution_count": null,
   "id": "507c24e0-ab1f-419a-8b25-78d5d2d4590b",
   "metadata": {},
   "outputs": [],
   "source": []
  }
 ],
 "metadata": {
  "kernelspec": {
   "display_name": "Python 3 (ipykernel)",
   "language": "python",
   "name": "python3"
  },
  "language_info": {
   "codemirror_mode": {
    "name": "ipython",
    "version": 3
   },
   "file_extension": ".py",
   "mimetype": "text/x-python",
   "name": "python",
   "nbconvert_exporter": "python",
   "pygments_lexer": "ipython3",
   "version": "3.9.12"
  },
  "widgets": {
   "application/vnd.jupyter.widget-state+json": {
    "state": {
     "5ecb2dfade30442aaccf4a7839a41542": {
      "buffers": [
       {
        "data": "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",
        "encoding": "base64",
        "path": [
         "scenes",
         0,
         "data"
        ]
       }
      ],
      "model_module": "pgljupyter",
      "model_module_version": "^1.2.0",
      "model_name": "SceneWidgetModel",
      "state": {
       "_model_module_version": "^1.2.0",
       "_view_module_version": "^1.2.0",
       "axes_helper": false,
       "layout": "IPY_MODEL_a62a9187654642a4aff72c229eb7746f",
       "light_helper": false,
       "plane": true,
       "scenes": [
        {
         "id": "bEQZ5vunQDbfT6n5HhbPCYS5IYYGKpuEEgE7R6s8AdDIq8RaQrPJhxyyrTnWx0iTdRfJZkHhd4zhAhbBSrUqL01R695LuWvycLco",
         "position": [
          0,
          0,
          0
         ],
         "scale": 0.1,
         "scene": "<openalea.plantgl.scenegraph._pglsg.Scene object at 0x7fd3dcb711c0>"
        }
       ],
       "size_display": [
        600,
        400
       ],
       "size_world": 1
      }
     },
     "a62a9187654642a4aff72c229eb7746f": {
      "model_module": "@jupyter-widgets/base",
      "model_module_version": "1.2.0",
      "model_name": "LayoutModel",
      "state": {}
     }
    },
    "version_major": 2,
    "version_minor": 0
   }
  }
 },
 "nbformat": 4,
 "nbformat_minor": 5
}
