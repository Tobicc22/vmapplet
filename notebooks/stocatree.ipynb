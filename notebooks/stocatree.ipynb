{
 "cells": [
  {
   "cell_type": "code",
   "execution_count": null,
   "id": "c53a8105-14b5-437b-91ce-604152bb9c61",
   "metadata": {},
   "outputs": [],
   "source": [
    "import io\n",
    "import openalea.lpy as lpy\n",
    "from pgljupyter import SceneWidget, ParameterEditor"
   ]
  },
  {
   "cell_type": "code",
   "execution_count": null,
   "id": "f4e4ddad-ba3d-40c8-9ecc-28740c010452",
   "metadata": {
    "tags": []
   },
   "outputs": [],
   "source": [
    "sw = SceneWidget(scale=0.1, size_display=(600,400))\n",
    "sw"
   ]
  },
  {
   "cell_type": "code",
   "execution_count": null,
   "id": "aaaf0258-d97f-4b29-baf9-05df2d95d41a",
   "metadata": {},
   "outputs": [],
   "source": [
    "ls = lpy.Lsystem()\n",
    "lp = lpy.lsysparameters.LsystemParameters('../vmapplet/data/lpy.json')\n",
    "assert lp.is_valid()"
   ]
  },
  {
   "cell_type": "code",
   "execution_count": null,
   "id": "9641f8a3-ec9a-44db-9cf8-b752a9f3673d",
   "metadata": {},
   "outputs": [],
   "source": [
    "def on_change(parameters):\n",
    "    step = ls.getLastIterationNb()\n",
    "    lp = lpy.lsysparameters.LsystemParameters()\n",
    "    lp.loads(parameters)\n",
    "    with io.open('../vmapplet/stocatree.lpy') as file:\n",
    "        ls.clear()\n",
    "        ls.set(''.join([file.read(), lp.generate_py_code()]))\n",
    "    tree = ls.derive(step)\n",
    "    sw.set_scenes(ls.sceneInterpretation(tree), scales=0.1)"
   ]
  },
  {
   "cell_type": "code",
   "execution_count": null,
   "id": "596a9901-135c-4013-8156-804518ab8753",
   "metadata": {},
   "outputs": [],
   "source": [
    "editor = ParameterEditor(lp, filename='../vmapplet/data/lpy.json')\n",
    "editor.on_lpy_context_change = on_change\n",
    "editor"
   ]
  },
  {
   "cell_type": "code",
   "execution_count": null,
   "id": "fc3bbdb2-c20d-4ab7-bfc9-c0eac910196d",
   "metadata": {},
   "outputs": [],
   "source": [
    "with io.open('../vmapplet/stocatree.lpy') as file:\n",
    "    ls.clear()\n",
    "    ls.set(''.join([file.read(), lp.generate_py_code()]))\n",
    "step = 250\n",
    "stop = 10000 # ls.derivationLength\n",
    "tree = ls.axiom\n",
    "for i in range(0, stop, step):\n",
    "    tree = ls.derive(tree, i, step)\n",
    "    sw.set_scenes(ls.sceneInterpretation(tree), scales=0.1)"
   ]
  },
  {
   "cell_type": "code",
   "execution_count": null,
   "id": "486ce849-0811-441c-88ad-17128c644c3b",
   "metadata": {},
   "outputs": [],
   "source": []
  },
  {
   "cell_type": "code",
   "execution_count": null,
   "id": "6038ee3e-c721-4b83-a80f-2466a46db2a7",
   "metadata": {},
   "outputs": [],
   "source": []
  },
  {
   "cell_type": "code",
   "execution_count": null,
   "id": "507c24e0-ab1f-419a-8b25-78d5d2d4590b",
   "metadata": {},
   "outputs": [],
   "source": []
  }
 ],
 "metadata": {
  "kernelspec": {
   "display_name": "Python 3 (ipykernel)",
   "language": "python",
   "name": "python3"
  },
  "language_info": {
   "codemirror_mode": {
    "name": "ipython",
    "version": 3
   },
   "file_extension": ".py",
   "mimetype": "text/x-python",
   "name": "python",
   "nbconvert_exporter": "python",
   "pygments_lexer": "ipython3",
   "version": "3.9.12"
  },
  "widgets": {
   "application/vnd.jupyter.widget-state+json": {
    "state": {},
    "version_major": 2,
    "version_minor": 0
   }
  }
 },
 "nbformat": 4,
 "nbformat_minor": 5
}
