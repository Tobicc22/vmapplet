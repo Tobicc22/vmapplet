{
 "cells": [
  {
   "cell_type": "code",
   "execution_count": null,
   "id": "c53a8105-14b5-437b-91ce-604152bb9c61",
   "metadata": {},
   "outputs": [],
   "source": [
    "import io\n",
    "import openalea.lpy as lpy\n",
    "from pgljupyter import SceneWidget, ParameterEditor"
   ]
  },
  {
   "cell_type": "code",
   "execution_count": null,
   "id": "596a9901-135c-4013-8156-804518ab8753",
   "metadata": {},
   "outputs": [],
   "source": [
    "lp = lpy.lsysparameters.LsystemParameters('../vmapplet/data/lpy.json')\n",
    "assert lp.is_valid()\n",
    "ParameterEditor(lp)"
   ]
  },
  {
   "cell_type": "code",
   "execution_count": null,
   "id": "7a00a5fc-a389-4dbc-8b2c-93c0fba95da3",
   "metadata": {},
   "outputs": [],
   "source": [
    "# save parameter changes\n",
    "with io.open('../vmapplet/data/lpy.json', 'w') as file:\n",
    "    lp.dump(file)"
   ]
  },
  {
   "cell_type": "code",
   "execution_count": null,
   "id": "f4e4ddad-ba3d-40c8-9ecc-28740c010452",
   "metadata": {},
   "outputs": [],
   "source": [
    "sw = SceneWidget(scale=0.1, size_display=(600,400))\n",
    "sw"
   ]
  },
  {
   "cell_type": "code",
   "execution_count": null,
   "id": "fc3bbdb2-c20d-4ab7-bfc9-c0eac910196d",
   "metadata": {},
   "outputs": [],
   "source": [
    "ls = lpy.Lsystem()\n",
    "with io.open('../vmapplet/stocatree.lpy') as file:\n",
    "    ls.set(''.join([file.read(), lp.generate_py_code()]))\n",
    "step = 100\n",
    "stop = 100000 # ls.derivationLength\n",
    "tree = ls.axiom\n",
    "for i in range(0, stop, step):\n",
    "    tree = ls.derive(tree, i, step)\n",
    "    if i % step == 0:\n",
    "        sw.set_scenes(ls.sceneInterpretation(tree), scales=0.1)"
   ]
  },
  {
   "cell_type": "code",
   "execution_count": null,
   "id": "d6498e1a-6ab1-4650-827d-6052d32c4514",
   "metadata": {},
   "outputs": [],
   "source": []
  }
 ],
 "metadata": {
  "kernelspec": {
   "display_name": "Python 3 (ipykernel)",
   "language": "python",
   "name": "python3"
  },
  "language_info": {
   "codemirror_mode": {
    "name": "ipython",
    "version": 3
   },
   "file_extension": ".py",
   "mimetype": "text/x-python",
   "name": "python",
   "nbconvert_exporter": "python",
   "pygments_lexer": "ipython3",
   "version": "3.9.12"
  },
  "widgets": {
   "application/vnd.jupyter.widget-state+json": {
    "state": {},
    "version_major": 2,
    "version_minor": 0
   }
  }
 },
 "nbformat": 4,
 "nbformat_minor": 5
}
