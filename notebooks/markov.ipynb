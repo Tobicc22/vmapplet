{
 "cells": [
  {
   "cell_type": "code",
   "execution_count": null,
   "id": "72da84bc-6df1-48ce-8ce1-acba1656a49a",
   "metadata": {
    "tags": []
   },
   "outputs": [],
   "source": [
    "import io, toml\n",
    "from vmapplet.markov import MarkovModel, Markov"
   ]
  },
  {
   "cell_type": "code",
   "execution_count": null,
   "id": "7180e893-3dbf-4595-9872-25434d3b886f",
   "metadata": {
    "tags": []
   },
   "outputs": [],
   "source": [
    "with io.open('../vmapplet/data/markov/fuji_long_year_5.toml') as file:\n",
    "    model = MarkovModel(**toml.loads(file.read()))"
   ]
  },
  {
   "cell_type": "code",
   "execution_count": null,
   "id": "31fa25ee-712e-4ed8-b1fc-8dc292806582",
   "metadata": {
    "tags": []
   },
   "outputs": [],
   "source": [
    "markov = Markov()"
   ]
  },
  {
   "cell_type": "code",
   "execution_count": null,
   "id": "0cca759f-de38-4045-8c59-e0be615bf2ca",
   "metadata": {
    "tags": []
   },
   "outputs": [],
   "source": [
    "markov.set_models(model, model)"
   ]
  },
  {
   "cell_type": "code",
   "execution_count": null,
   "id": "ec7ecad9-900b-4b7e-80ff-10a494106ece",
   "metadata": {
    "tags": []
   },
   "outputs": [],
   "source": [
    "markov.generate_bounded_long_sequence(15, 26)"
   ]
  },
  {
   "cell_type": "code",
   "execution_count": null,
   "id": "19c5d4e2-9f98-43e3-8bc4-44c8f7e7e5ef",
   "metadata": {},
   "outputs": [],
   "source": []
  }
 ],
 "metadata": {
  "kernelspec": {
   "display_name": "Python 3 (ipykernel)",
   "language": "python",
   "name": "python3"
  },
  "language_info": {
   "codemirror_mode": {
    "name": "ipython",
    "version": 3
   },
   "file_extension": ".py",
   "mimetype": "text/x-python",
   "name": "python",
   "nbconvert_exporter": "python",
   "pygments_lexer": "ipython3",
   "version": "3.9.16"
  }
 },
 "nbformat": 4,
 "nbformat_minor": 5
}
