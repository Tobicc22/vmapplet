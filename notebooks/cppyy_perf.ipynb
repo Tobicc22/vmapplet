{
 "cells": [
  {
   "cell_type": "code",
   "execution_count": 1,
   "id": "3032b678-2cd6-4657-bc32-486b187140ef",
   "metadata": {},
   "outputs": [],
   "source": [
    "import os\n",
    "import cppyy"
   ]
  },
  {
   "cell_type": "code",
   "execution_count": 2,
   "id": "3205ce27-8792-45d5-9e37-3bdbd703b314",
   "metadata": {},
   "outputs": [
    {
     "data": {
      "text/plain": [
       "True"
      ]
     },
     "execution_count": 2,
     "metadata": {},
     "output_type": "execute_result"
    }
   ],
   "source": [
    "cppyy.add_include_path(f'{os.environ[\"CONDA_PREFIX\"]}/include')\n",
    "cppyy.add_library_path(f'{os.environ[\"CONDA_PREFIX\"]}/lib')\n",
    "cppyy.load_library('pglmath')\n",
    "cppyy.include('./optimization.h')"
   ]
  },
  {
   "cell_type": "code",
   "execution_count": 4,
   "id": "dce27e54-0a67-434b-9b1c-c8bdbf6355a8",
   "metadata": {},
   "outputs": [],
   "source": [
    "c_second_moment_of_area_annular_section = cppyy.gbl.second_moment_of_area_annular_section\n",
    "c_rotate = cppyy.gbl.rotate"
   ]
  },
  {
   "cell_type": "code",
   "execution_count": null,
   "id": "d0812580-ce55-4579-a8dd-c6808167ae4d",
   "metadata": {},
   "outputs": [],
   "source": [
    "from math import sin, cos\n",
    "from openalea.plantgl.all import Vector3\n",
    "def py_second_moment_of_area_annular_section(inner_radius, thickness, section):\n",
    "    rt = inner_radius+thickness\n",
    "    rt2 = rt*rt\n",
    "    rt4 = rt2*rt2\n",
    "    r = inner_radius\n",
    "    r2 = r*r\n",
    "    r4=r2*r2\n",
    "    return  0.125 * (rt4 - r4)*(section + sin(section))\n",
    "\n",
    "def py_rotate(v3x,  v3y,  v3z,  angle,  vx,  vy,  vz):\n",
    "    c =  cos(angle)\n",
    "    t2 =  1 - c\n",
    "    t6 =  t2*v3x\n",
    "    t7 =  t6*v3y\n",
    "    s =  sin(angle)\n",
    "    t9 =  s*v3z\n",
    "    t11 = t6*v3z\n",
    "    t12 = s*v3y\n",
    "    t19 = t2*v3y*v3z\n",
    "    t20 = s*v3x\n",
    "    t24 = v3z*v3z\n",
    "    R00 = c + t2*v3x*v3x\n",
    "    R01 = t7 - t9\n",
    "    R02 = t11 + t12\n",
    "    R10 = t7 + t9\n",
    "    R11 = c + t2*v3y*v3y\n",
    "    R12 = t19 - t20\n",
    "    R20 = t11 - t12\n",
    "    R21 = t19 + t20\n",
    "    R22 = c + t2*t24\n",
    "    return Vector3(R00*vx+R01*vy+R02*vz, R10*vx+R11*vy+R12*vz, R20*vx+R21*vy+R22*vz)"
   ]
  },
  {
   "cell_type": "code",
   "execution_count": null,
   "id": "1ee2930d-5e35-425f-ab5c-e6a99298b69c",
   "metadata": {},
   "outputs": [],
   "source": [
    "%%timeit\n",
    "py_second_moment_of_area_annular_section(1,2,3)"
   ]
  },
  {
   "cell_type": "code",
   "execution_count": null,
   "id": "35a1f638-235e-4171-8a97-7a68718459c5",
   "metadata": {},
   "outputs": [],
   "source": [
    "%%timeit\n",
    "c_second_moment_of_area_annular_section(1,2,3)"
   ]
  },
  {
   "cell_type": "code",
   "execution_count": null,
   "id": "e7f63991-27a2-4797-9d31-e8a98d6ad1de",
   "metadata": {},
   "outputs": [],
   "source": [
    "%%timeit\n",
    "py_rotate(1,2,3,4,5,6,7)"
   ]
  },
  {
   "cell_type": "code",
   "execution_count": null,
   "id": "47d9534a-dc1a-46d2-a9e4-899ee994f095",
   "metadata": {},
   "outputs": [],
   "source": [
    "%%timeit\n",
    "c_rotate(1,2,3,4,5,6,7)"
   ]
  },
  {
   "cell_type": "code",
   "execution_count": null,
   "id": "1833578f-8dd1-4c37-b018-f08c84b091c8",
   "metadata": {},
   "outputs": [],
   "source": [
    "from openalea.plantgl.all import Vector3"
   ]
  },
  {
   "cell_type": "code",
   "execution_count": null,
   "id": "98f4cb6e-7016-4b9b-b943-4070df2cc388",
   "metadata": {},
   "outputs": [],
   "source": [
    "pgl_vec = Vector3(1,2,3)\n",
    "pgl_vec"
   ]
  },
  {
   "cell_type": "code",
   "execution_count": null,
   "id": "d6026dd8-1c9f-4685-a2db-a57fa18f226d",
   "metadata": {},
   "outputs": [],
   "source": [
    "cpp_vec = cppyy.gbl.PGL.Vector3()\n",
    "cpp_vec"
   ]
  },
  {
   "cell_type": "code",
   "execution_count": null,
   "id": "ed286702-2fa8-4a4d-adb5-922bcd3867e9",
   "metadata": {},
   "outputs": [],
   "source": [
    "Vector3(cpp_vec.x(), cpp_vec.y(), cpp_vec.z())"
   ]
  },
  {
   "cell_type": "code",
   "execution_count": null,
   "id": "f9a7d92c-8407-4f53-bb49-70dea638c453",
   "metadata": {},
   "outputs": [],
   "source": [
    "cpp_vec.x()"
   ]
  },
  {
   "cell_type": "code",
   "execution_count": null,
   "id": "1f0edf63-07c9-4ffc-a14e-d955620ff54e",
   "metadata": {},
   "outputs": [],
   "source": [
    "cppyy.gbl.PGL.Vector3(pgl_vec.x, pgl_vec.y, pgl_vec.z)"
   ]
  },
  {
   "cell_type": "code",
   "execution_count": 6,
   "id": "20357f6c-1232-422f-b1d6-ba16b1821b07",
   "metadata": {},
   "outputs": [
    {
     "data": {
      "text/plain": [
       "62.597450256347656"
      ]
     },
     "execution_count": 6,
     "metadata": {},
     "output_type": "execute_result"
    }
   ],
   "source": [
    "c_rotate(1,2,3,4,5,6,7).x"
   ]
  },
  {
   "cell_type": "code",
   "execution_count": null,
   "id": "e0596d86-e5d2-4de5-be39-652fbd2afcfd",
   "metadata": {},
   "outputs": [],
   "source": [
    "Vector3(cppyy.gbl.PGL.Vector3())"
   ]
  },
  {
   "cell_type": "code",
   "execution_count": null,
   "id": "c87a4529-2b28-4645-9500-d79f2b1102b2",
   "metadata": {},
   "outputs": [],
   "source": []
  }
 ],
 "metadata": {
  "kernelspec": {
   "display_name": "Python 3 (ipykernel)",
   "language": "python",
   "name": "python3"
  },
  "language_info": {
   "codemirror_mode": {
    "name": "ipython",
    "version": 3
   },
   "file_extension": ".py",
   "mimetype": "text/x-python",
   "name": "python",
   "nbconvert_exporter": "python",
   "pygments_lexer": "ipython3",
   "version": "3.9.12"
  },
  "widgets": {
   "application/vnd.jupyter.widget-state+json": {
    "state": {},
    "version_major": 2,
    "version_minor": 0
   }
  }
 },
 "nbformat": 4,
 "nbformat_minor": 5
}
