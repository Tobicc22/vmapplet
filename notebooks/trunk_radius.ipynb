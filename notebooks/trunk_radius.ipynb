{
 "cells": [
  {
   "cell_type": "code",
   "execution_count": null,
   "id": "c53a8105-14b5-437b-91ce-604152bb9c61",
   "metadata": {
    "ExecuteTime": {
     "end_time": "2023-09-15T12:53:54.518391Z",
     "start_time": "2023-09-15T12:53:52.727468Z"
    },
    "tags": []
   },
   "outputs": [],
   "source": [
    "import pickle, io, os, toml, datetime\n",
    "import matplotlib.pyplot as plt\n",
    "from openalea import mtg\n",
    "from vmapplet import Options, Simulation\n",
    "import vmapplet"
   ]
  },
  {
   "cell_type": "markdown",
   "id": "30e57f32-9c90-4601-b734-259aa3f31d29",
   "metadata": {},
   "source": [
    "### Example: Extracting the trunk's radius"
   ]
  },
  {
   "cell_type": "code",
   "execution_count": null,
   "id": "32ba8075-ff6a-467b-bac7-41b9ed39d086",
   "metadata": {
    "ExecuteTime": {
     "end_time": "2023-09-15T12:53:54.529970Z",
     "start_time": "2023-09-15T12:53:54.521843Z"
    }
   },
   "outputs": [],
   "source": [
    "with io.open('simulation.toml') as file:\n",
    "    options = Options(**toml.loads(file.read()))"
   ]
  },
  {
   "cell_type": "code",
   "execution_count": null,
   "id": "23c63694-a805-453b-932b-89d248b621c4",
   "metadata": {
    "ExecuteTime": {
     "end_time": "2023-09-15T12:53:54.536369Z",
     "start_time": "2023-09-15T12:53:54.532676Z"
    }
   },
   "outputs": [],
   "source": [
    "# Set the duration of the sumulation\n",
    "options.general.date_start = datetime.date(1994, 5, 1)\n",
    "options.general.date_end = datetime.date(2000, 5, 1)"
   ]
  },
  {
   "cell_type": "code",
   "execution_count": null,
   "id": "456ba289-467d-4408-96d4-7b9f92b4a72e",
   "metadata": {
    "ExecuteTime": {
     "end_time": "2023-09-15T12:53:54.544286Z",
     "start_time": "2023-09-15T12:53:54.540328Z"
    }
   },
   "outputs": [],
   "source": [
    "# Write 'trunk_radius' to mtg every 1st day of any month\n",
    "options.output.dates = [dict(day=1, month=month) for month in range(1, 13)]\n",
    "# Export 'tree.trunk_radius' to mtg\n",
    "options.output.attributes = dict(tree=['trunk_radius'])"
   ]
  },
  {
   "cell_type": "code",
   "execution_count": null,
   "id": "89991d0d-2539-478d-8bb5-fe63a9a8095a",
   "metadata": {
    "ExecuteTime": {
     "end_time": "2023-09-15T12:53:54.723074Z",
     "start_time": "2023-09-15T12:53:54.547263Z"
    },
    "tags": []
   },
   "outputs": [],
   "source": [
    "# clear output files\n",
    "%rm -f ./trunk_radius/*"
   ]
  },
  {
   "cell_type": "code",
   "execution_count": null,
   "id": "6525a8ee-1196-4f7f-ad15-e44c64680390",
   "metadata": {
    "ExecuteTime": {
     "end_time": "2023-09-15T12:54:26.212781Z",
     "start_time": "2023-09-15T12:53:54.725960Z"
    }
   },
   "outputs": [],
   "source": [
    "simulation = Simulation(options=options, output_path='trunk_radius')\n",
    "vmapplet.run(simulation)"
   ]
  },
  {
   "cell_type": "code",
   "execution_count": null,
   "id": "8b8c97c1-9c73-4f32-a948-3e47b4d39556",
   "metadata": {
    "ExecuteTime": {
     "end_time": "2023-09-15T12:54:26.224681Z",
     "start_time": "2023-09-15T12:54:26.214821Z"
    }
   },
   "outputs": [],
   "source": [
    "files = os.listdir('trunk_radius')\n",
    "trunk_radius = []\n",
    "for file in sorted(files):\n",
    "    with io.open('trunk_radius/' + file, 'rb') as file:\n",
    "        tree = pickle.load(file)\n",
    "        trunk_radius.append(tree.get_vertex_property(1)['trunk_radius'])"
   ]
  },
  {
   "cell_type": "code",
   "execution_count": null,
   "id": "1f39140b-e848-4d1c-a08f-89c551862bfc",
   "metadata": {
    "ExecuteTime": {
     "end_time": "2023-09-15T12:54:26.242312Z",
     "start_time": "2023-09-15T12:54:26.228014Z"
    }
   },
   "outputs": [],
   "source": [
    "tree.get_vertex_property(1)"
   ]
  },
  {
   "cell_type": "code",
   "execution_count": null,
   "id": "dc1a131a-e06b-4746-ac80-d4f792a1769d",
   "metadata": {
    "ExecuteTime": {
     "end_time": "2023-09-15T12:54:26.535058Z",
     "start_time": "2023-09-15T12:54:26.245449Z"
    }
   },
   "outputs": [],
   "source": [
    "plt.plot(trunk_radius)"
   ]
  },
  {
   "cell_type": "code",
   "execution_count": null,
   "id": "a0d8118d",
   "metadata": {},
   "outputs": [],
   "source": []
  }
 ],
 "metadata": {
  "kernelspec": {
   "display_name": "Python 3 (ipykernel)",
   "language": "python",
   "name": "python3"
  },
  "language_info": {
   "codemirror_mode": {
    "name": "ipython",
    "version": 3
   },
   "file_extension": ".py",
   "mimetype": "text/x-python",
   "name": "python",
   "nbconvert_exporter": "python",
   "pygments_lexer": "ipython3",
   "version": "3.9.16"
  }
 },
 "nbformat": 4,
 "nbformat_minor": 5
}
