{
 "cells": [
  {
   "cell_type": "code",
   "execution_count": null,
   "id": "c53a8105-14b5-437b-91ce-604152bb9c61",
   "metadata": {
    "tags": []
   },
   "outputs": [],
   "source": [
    "import pickle, io, os, toml, datetime\n",
    "import matplotlib.pyplot as plt\n",
    "from openalea import mtg\n",
    "from vmapplet import Options, Simulation\n",
    "import vmapplet"
   ]
  },
  {
   "cell_type": "markdown",
   "id": "30e57f32-9c90-4601-b734-259aa3f31d29",
   "metadata": {},
   "source": [
    "### Example: Extracting the trunk's radius"
   ]
  },
  {
   "cell_type": "code",
   "execution_count": null,
   "id": "32ba8075-ff6a-467b-bac7-41b9ed39d086",
   "metadata": {},
   "outputs": [],
   "source": [
    "with io.open('simulation.toml') as file:\n",
    "    options = Options(**toml.loads(file.read()))"
   ]
  },
  {
   "cell_type": "code",
   "execution_count": null,
   "id": "23c63694-a805-453b-932b-89d248b621c4",
   "metadata": {},
   "outputs": [],
   "source": [
    "# Set the duration of the sumulation\n",
    "options.general.date_start = datetime.date(1994, 5, 1)\n",
    "options.general.date_end = datetime.date(2000, 5, 1)"
   ]
  },
  {
   "cell_type": "code",
   "execution_count": null,
   "id": "456ba289-467d-4408-96d4-7b9f92b4a72e",
   "metadata": {},
   "outputs": [],
   "source": [
    "# Write 'trunk_radius' to mtg every 1st day of any month\n",
    "options.output.dates = [dict(day=1, month=month) for month in range(1, 13)]\n",
    "# Export 'tree.trunk_radius' to mtg\n",
    "options.output.attributes = dict(tree=['trunk_radius'])"
   ]
  },
  {
   "cell_type": "code",
   "execution_count": null,
   "id": "89991d0d-2539-478d-8bb5-fe63a9a8095a",
   "metadata": {
    "tags": []
   },
   "outputs": [],
   "source": [
    "# clear output files\n",
    "%rm -f ./trunk_radius/*"
   ]
  },
  {
   "cell_type": "code",
   "execution_count": null,
   "id": "6525a8ee-1196-4f7f-ad15-e44c64680390",
   "metadata": {},
   "outputs": [],
   "source": [
    "simulation = Simulation(options=options, output_path='trunk_radius')\n",
    "vmapplet.run(simulation)"
   ]
  },
  {
   "cell_type": "code",
   "execution_count": null,
   "id": "8b8c97c1-9c73-4f32-a948-3e47b4d39556",
   "metadata": {},
   "outputs": [],
   "source": [
    "files = os.listdir('trunk_radius')\n",
    "trunk_radius = []\n",
    "for file in files:\n",
    "    with io.open('trunk_radius/' + file, 'rb') as file:\n",
    "        tree = pickle.load(file)\n",
    "        trunk_radius.append(tree.get_vertex_property(1)['trunk_radius'])"
   ]
  },
  {
   "cell_type": "code",
   "execution_count": null,
   "id": "1f39140b-e848-4d1c-a08f-89c551862bfc",
   "metadata": {},
   "outputs": [],
   "source": [
    "tree.get_vertex_property(2)"
   ]
  },
  {
   "cell_type": "code",
   "execution_count": null,
   "id": "dc1a131a-e06b-4746-ac80-d4f792a1769d",
   "metadata": {},
   "outputs": [],
   "source": [
    "plt.plot(trunk_radius)"
   ]
  },
  {
   "cell_type": "code",
   "execution_count": null,
   "id": "1d3c1dad-298c-4a09-a413-03dc65564f50",
   "metadata": {},
   "outputs": [],
   "source": []
  }
 ],
 "metadata": {
  "kernelspec": {
   "display_name": "Python 3 (ipykernel)",
   "language": "python",
   "name": "python3"
  },
  "language_info": {
   "codemirror_mode": {
    "name": "ipython",
    "version": 3
   },
   "file_extension": ".py",
   "mimetype": "text/x-python",
   "name": "python",
   "nbconvert_exporter": "python",
   "pygments_lexer": "ipython3",
   "version": "3.10.12"
  },
  "widgets": {
   "application/vnd.jupyter.widget-state+json": {
    "state": {
     "334cac1c0a0048ef947a6a93bb0838ca": {
      "model_module": "@jupyter-widgets/base",
      "model_module_version": "2.0.0",
      "model_name": "LayoutModel",
      "state": {}
     },
     "63049755e73547a9aa72e5a88159c403": {
      "buffers": [
       {
        "data": "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",
        "encoding": "base64",
        "path": [
         "scenes",
         0,
         "data"
        ]
       }
      ],
      "model_module": "pgljupyter",
      "model_module_version": "^2.0.0",
      "model_name": "SceneWidgetModel",
      "state": {
       "_model_module_version": "^2.0.0",
       "_view_module_version": "^2.0.0",
       "axes_helper": false,
       "layout": "IPY_MODEL_334cac1c0a0048ef947a6a93bb0838ca",
       "light_helper": false,
       "plane": true,
       "scenes": [
        {
         "id": "qnojAQONK3FMFNGh7Mu4IFQA8dn8G6zap5bDGSTLOLCMxNkL3rL7crQaXki5QZ3At2DVYMFipyLhfwo3N6u7TpTFhq6rqqdmSjKA",
         "position": [
          0,
          0,
          0
         ],
         "scale": 0.1,
         "scene": "<openalea.plantgl.scenegraph._pglsg.Scene object at 0x7fd60b31a820>"
        }
       ],
       "size_display": [
        400,
        400
       ],
       "size_world": 1
      }
     }
    },
    "version_major": 2,
    "version_minor": 0
   }
  }
 },
 "nbformat": 4,
 "nbformat_minor": 5
}
