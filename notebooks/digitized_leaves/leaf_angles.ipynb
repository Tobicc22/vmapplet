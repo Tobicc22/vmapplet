{
 "cells": [
  {
   "cell_type": "code",
   "execution_count": null,
   "id": "b3276f11-3f45-4f82-bf49-3d30fd13046d",
   "metadata": {},
   "outputs": [],
   "source": [
    "import pandas as pd\n",
    "import numpy as np"
   ]
  },
  {
   "cell_type": "markdown",
   "id": "df18991b-713a-43dd-b54d-4aaef5d49b98",
   "metadata": {},
   "source": [
    "## Prepare the data\n",
    "Create one dataframe for the branches and one for the leaves. They are linked by the branch code (\"code rameau\")"
   ]
  },
  {
   "cell_type": "code",
   "execution_count": null,
   "id": "6834769a-e918-49d3-b2b7-9e2cb222df33",
   "metadata": {},
   "outputs": [],
   "source": [
    "df = pd.read_csv('branche_digit_fuji_feuilles.csv', header=1)\n",
    "df"
   ]
  },
  {
   "cell_type": "code",
   "execution_count": null,
   "id": "a65bf384-3f34-4381-aa62-b067f18fd322",
   "metadata": {},
   "outputs": [],
   "source": [
    "_branches = []\n",
    "_leaves = []\n",
    "\n",
    "code_rameau = np.nan\n",
    "for i in range(len(df)):\n",
    "    row = df.iloc[i].copy()\n",
    "    if not np.isnan(row['Long rameau(mm)']):  # start of branch\n",
    "        code_rameau = row['code rameau'] if type(row['code rameau']) is str else 'NOCODE' + str(i)  # the branch code may be missing\n",
    "        row['code rameau'] = code_rameau\n",
    "        _branches.append(row)\n",
    "    elif not str(row['Nbr feuille'])[0] == 'L':  # end of a branch\n",
    "        assert type(code_rameau) == str\n",
    "        row['code rameau'] = code_rameau\n",
    "        _branches.append(row)\n",
    "    elif row['Nbr feuille'][0] == 'L':\n",
    "        assert type(code_rameau) == str\n",
    "        row['code rameau'] = code_rameau\n",
    "        _leaves.append(row)\n",
    "    else:\n",
    "        assert False  # else shoudl never be entered\n",
    "\n",
    "branches = pd.DataFrame(_branches)\n",
    "leaves = pd.DataFrame(_leaves)\n",
    "\n",
    "branches.to_csv('branches.csv', index=False)\n",
    "leaves.to_csv('leaves.csv', index=False)"
   ]
  },
  {
   "cell_type": "code",
   "execution_count": null,
   "id": "bf2d721a-8b76-4f0e-8283-eaecd8fbdc85",
   "metadata": {},
   "outputs": [],
   "source": [
    "assert np.all(branches.groupby('code rameau').count()['#'] == 2)  # must be exactly 2"
   ]
  },
  {
   "cell_type": "code",
   "execution_count": null,
   "id": "1bbdb12c-0602-403b-9dde-63348f41dc86",
   "metadata": {},
   "outputs": [],
   "source": [
    "branches"
   ]
  },
  {
   "cell_type": "code",
   "execution_count": null,
   "id": "34d662e0-f54e-4c03-ae32-8707295ee9bb",
   "metadata": {},
   "outputs": [],
   "source": [
    "leaves"
   ]
  }
 ],
 "metadata": {
  "kernelspec": {
   "display_name": "Python 3 (ipykernel)",
   "language": "python",
   "name": "python3"
  },
  "language_info": {
   "codemirror_mode": {
    "name": "ipython",
    "version": 3
   },
   "file_extension": ".py",
   "mimetype": "text/x-python",
   "name": "python",
   "nbconvert_exporter": "python",
   "pygments_lexer": "ipython3",
   "version": "3.9.15"
  }
 },
 "nbformat": 4,
 "nbformat_minor": 5
}
