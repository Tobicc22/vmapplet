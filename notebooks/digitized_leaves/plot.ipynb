{
 "cells": [
  {
   "cell_type": "code",
   "execution_count": null,
   "id": "6e21c382-4eb1-497f-8ca7-2423e54ac8a5",
   "metadata": {
    "ExecuteTime": {
     "end_time": "2023-07-28T09:14:13.012209Z",
     "start_time": "2023-07-28T09:14:06.911622Z"
    }
   },
   "outputs": [],
   "source": [
    "import math\n",
    "import pandas as pd\n",
    "import numpy as np\n",
    "import pgljupyter\n",
    "import openalea.plantgl.all as pgl\n",
    "from vmapplet.tools.surface import leafSurface"
   ]
  },
  {
   "cell_type": "markdown",
   "id": "ad6d5dfb-7650-43b1-8570-edc2099944f3",
   "metadata": {},
   "source": [
    "device manual: https://polhemus.com/_assets/img/FASTRAK_User_Manual_OPM00PI002-G.pdf"
   ]
  },
  {
   "cell_type": "code",
   "execution_count": null,
   "id": "92f34da0-3af7-4622-b1aa-58f88239ac64",
   "metadata": {
    "ExecuteTime": {
     "end_time": "2023-07-28T09:14:13.046185Z",
     "start_time": "2023-07-28T09:14:13.014844Z"
    }
   },
   "outputs": [],
   "source": [
    "branches = pd.read_csv('branches.csv')\n",
    "leaves = pd.read_csv('leaves.csv')"
   ]
  },
  {
   "cell_type": "code",
   "execution_count": null,
   "id": "8683d292-fb29-47d3-a064-d7a2d8a8cf9a",
   "metadata": {
    "ExecuteTime": {
     "end_time": "2023-07-28T10:30:12.528019Z",
     "start_time": "2023-07-28T10:30:12.484179Z"
    }
   },
   "outputs": [],
   "source": [
    "branches"
   ]
  },
  {
   "cell_type": "code",
   "execution_count": null,
   "id": "54a37096",
   "metadata": {
    "ExecuteTime": {
     "end_time": "2023-07-28T10:32:58.787920Z",
     "start_time": "2023-07-28T10:32:58.779543Z"
    }
   },
   "outputs": [],
   "source": [
    "#print(branches['code rameau'].unique())"
   ]
  },
  {
   "cell_type": "code",
   "execution_count": null,
   "id": "f5b748e2-5d3f-4fc1-8fb2-e16edca09965",
   "metadata": {},
   "outputs": [],
   "source": [
    "leaves"
   ]
  },
  {
   "cell_type": "code",
   "execution_count": null,
   "id": "10157b58",
   "metadata": {
    "ExecuteTime": {
     "end_time": "2023-07-28T11:16:18.330318Z",
     "start_time": "2023-07-28T11:16:18.326658Z"
    }
   },
   "outputs": [],
   "source": [
    "# az,el are expected in degrees, in the North-clocwise convention\n",
    "# In the scene, positive rotations are counter-clockwise\n",
    "# north is the angle (degrees, positive counter_clockwise) between X+ and North\n",
    "from math import radians\n",
    "\n",
    "def azimuth(az, north = 0):\n",
    "    return radians(az)\n",
    "\n",
    "def elevation(el): # elevation is in counter-clockwize\n",
    "    return radians(-el)\n",
    "\n",
    "def roll(rl):\n",
    "    return radians(rl)\n",
    "\n",
    "def position(x,y,z): # reference is inverted. All of it. However, it is maybe now oriented toward the south. we do not care for relative orientation\n",
    "    return -x,-y,-z"
   ]
  },
  {
   "cell_type": "code",
   "execution_count": null,
   "id": "e24ec730-712b-472f-9388-85e645a3a214",
   "metadata": {
    "ExecuteTime": {
     "end_time": "2023-07-28T11:20:02.979750Z",
     "start_time": "2023-07-28T11:20:02.865611Z"
    }
   },
   "outputs": [],
   "source": [
    "branch_shapes = []\n",
    "for i, branch in branches.iterrows():\n",
    "    if not i % 2:\n",
    "        x0 = branch['X']\n",
    "        y0 = branch['Y']\n",
    "        z0 = branch['Z']\n",
    "    else:\n",
    "        x1 = branch['X']\n",
    "        y1 = branch['Y']\n",
    "        z1 = branch['Z']\n",
    "        geom = pgl.Extrusion(pgl.Polyline([position(x0, y0, z0), position(x1, y1, z1)]), pgl.Polyline2D.Circle(1))\n",
    "        shape = pgl.Shape(geom, pgl.Material(ambient=(49,29,25) , diffuse = 2.55102, shininess=0))\n",
    "        branch_shapes.append(shape)"
   ]
  },
  {
   "cell_type": "code",
   "execution_count": null,
   "id": "e01e4827-498b-40ea-9f46-a48452f12413",
   "metadata": {
    "ExecuteTime": {
     "end_time": "2023-07-28T11:20:19.416288Z",
     "start_time": "2023-07-28T11:20:18.150148Z"
    }
   },
   "outputs": [],
   "source": [
    "leaf_shapes = []\n",
    "for _, leaf in leaves.iterrows():\n",
    "    x = -leaf['X']\n",
    "    y = -leaf['Y']\n",
    "    z = -leaf['Z']\n",
    "    a = azimuth(leaf['A'])\n",
    "    c = elevation(leaf['B'])\n",
    "    b = roll(leaf['C'])\n",
    "    geom = pgl.Translated(x, y, z, pgl.EulerRotated(0, 0, c, pgl.EulerRotated(0, b, 0, pgl.EulerRotated(a, 0, 0, pgl.Scaled(5,leafSurface())))))\n",
    "    shape = pgl.Shape(geom, pgl.Material(ambient=(0, 59, 6), shininess=0, diffuse=1.59322))\n",
    "    leaf_shapes.append(shape)"
   ]
  },
  {
   "cell_type": "code",
   "execution_count": null,
   "id": "cc6e9bae-a886-4b81-bebe-1c9cc817b367",
   "metadata": {
    "ExecuteTime": {
     "end_time": "2023-07-28T11:20:19.515335Z",
     "start_time": "2023-07-28T11:20:19.418374Z"
    }
   },
   "outputs": [],
   "source": [
    "pgljupyter.SceneWidget(branch_shapes + leaf_shapes, scale=1, size_world=-branches['Z'].min())"
   ]
  },
  {
   "cell_type": "code",
   "execution_count": null,
   "id": "7d761b2a-922b-4e98-aa98-6534f50e953b",
   "metadata": {
    "ExecuteTime": {
     "end_time": "2023-07-28T10:51:15.352477Z",
     "start_time": "2023-07-28T10:51:15.347948Z"
    }
   },
   "outputs": [],
   "source": [
    "def get_leaf_geom():\n",
    "    import math\n",
    "    w = 1\n",
    "    l = 4\n",
    "    points = [(0,-w/10,0), (0,w/10,0), (l/2,w/2,0), (l/2,-w/2,0), (l,w/2,0), (l,-w/2,0)]\n",
    "    indices = [(0, 1, 2, 3),(3, 2, 4, 5)]\n",
    "    colors = [(0, 59, 6,0),(60, 0, 0,0)] \n",
    "    geom = pgl.QuadSet(points,indices,colorList=colors)\n",
    "    return geom\n"
   ]
  },
  {
   "cell_type": "code",
   "execution_count": null,
   "id": "07ce2c80-f1ac-4ab6-ab7e-9d25db8b247f",
   "metadata": {
    "ExecuteTime": {
     "end_time": "2023-07-28T11:19:08.960954Z",
     "start_time": "2023-07-28T11:19:08.953048Z"
    }
   },
   "outputs": [],
   "source": [
    "from math import radians\n",
    "def plot_single_branch(code: str, widget: pgljupyter.SceneWidget):\n",
    "    \"\"\"branch bein and leaves translated to orgin 0,0,0\"\"\"\n",
    "    branch = branches[branches['code rameau'] == code]\n",
    "    leaves_ = leaves[leaves['code rameau'] == code]\n",
    "    shapes = []\n",
    "\n",
    "    x0 = branch.iloc[0]['X']\n",
    "    y0 = branch.iloc[0]['Y']\n",
    "    z0 = branch.iloc[0]['Z']\n",
    "    x1 = (branch.iloc[1]['X'] - x0)  # remove offset to plot branch at origin (0,0,0)\n",
    "    y1 = (branch.iloc[1]['Y'] - y0)\n",
    "    z1 = (branch.iloc[1]['Z'] - z0)\n",
    "    \n",
    "    geom = pgl.Extrusion(pgl.Polyline([(0, 0, 0), position(x1, y1, z1)]), pgl.Polyline2D.Circle(1))\n",
    "    shape = pgl.Shape(geom, pgl.Material(ambient=(49,29,25) , diffuse = 2.55102, shininess=0))\n",
    "    shapes.append(shape)\n",
    "    \n",
    "    leafsmb = get_leaf_geom()\n",
    "    for _, leaf in leaves_.iterrows():\n",
    "        x = (leaf['X'] - x0)\n",
    "        y = (leaf['Y'] - y0)\n",
    "        z = (leaf['Z'] - z0)\n",
    "        print(leaf['A'],leaf['B'],leaf['C'])\n",
    "        a = azimuth(leaf['A'])\n",
    "        b = elevation(leaf['B'])\n",
    "        c = roll(leaf['C'])\n",
    "        #  leafSurface()\n",
    "        geom = pgl.Translated(position(x, y, z), pgl.EulerRotated(a, b, c, leafsmb))\n",
    "        shape = pgl.Shape(geom, pgl.Material(ambient=(0, 59, 6), shininess=0, diffuse=1.59322))\n",
    "        shapes.append(shape)\n",
    "\n",
    "    widget.set_scenes(pgl.Scene(shapes), scales=0.1)"
   ]
  },
  {
   "cell_type": "code",
   "execution_count": null,
   "id": "3399bade-1340-43c2-924d-d970b1c9e824",
   "metadata": {
    "ExecuteTime": {
     "end_time": "2023-07-28T11:19:10.250851Z",
     "start_time": "2023-07-28T11:19:10.245168Z"
    }
   },
   "outputs": [],
   "source": [
    "single_branch_widget = pgljupyter.SceneWidget()\n",
    "single_branch_widget"
   ]
  },
  {
   "cell_type": "code",
   "execution_count": null,
   "id": "4bb081d1-b4ba-423d-be09-2c695ed5dda0",
   "metadata": {
    "ExecuteTime": {
     "end_time": "2023-07-28T11:31:04.386740Z",
     "start_time": "2023-07-28T11:31:04.376884Z"
    }
   },
   "outputs": [],
   "source": [
    "plot_single_branch('F36PL2', single_branch_widget)"
   ]
  },
  {
   "cell_type": "code",
   "execution_count": null,
   "id": "0ed7c93a",
   "metadata": {
    "ExecuteTime": {
     "end_time": "2023-07-28T10:34:11.931085Z",
     "start_time": "2023-07-28T10:34:11.923919Z"
    }
   },
   "outputs": [],
   "source": [
    "plot_single_branch('F42PL16', single_branch_widget)"
   ]
  },
  {
   "cell_type": "code",
   "execution_count": null,
   "id": "8f484a7c-df8a-4a0b-9b7a-baab116a9f8a",
   "metadata": {
    "ExecuteTime": {
     "end_time": "2023-07-28T09:14:37.979807Z",
     "start_time": "2023-07-28T09:14:37.974629Z"
    }
   },
   "outputs": [],
   "source": [
    "leaf_widget = pgljupyter.SceneWidget()\n",
    "leaf_widget"
   ]
  },
  {
   "cell_type": "code",
   "execution_count": null,
   "id": "7a7ac779-77cf-4c7f-9df2-602e401bb401",
   "metadata": {
    "ExecuteTime": {
     "end_time": "2023-07-28T11:30:50.059189Z",
     "start_time": "2023-07-28T11:30:50.052117Z"
    }
   },
   "outputs": [],
   "source": [
    "leaf = pgl.Shape(get_leaf_geom(), pgl.Material(ambient=(0, 59, 6), shininess=0, diffuse=1.59322))\n",
    "leaf_widget.set_scenes(leaf, scales=0.1)"
   ]
  },
  {
   "cell_type": "code",
   "execution_count": null,
   "id": "03b49d46",
   "metadata": {},
   "outputs": [],
   "source": []
  }
 ],
 "metadata": {
  "kernelspec": {
   "display_name": "Python 3 (ipykernel)",
   "language": "python",
   "name": "python3"
  },
  "language_info": {
   "codemirror_mode": {
    "name": "ipython",
    "version": 3
   },
   "file_extension": ".py",
   "mimetype": "text/x-python",
   "name": "python",
   "nbconvert_exporter": "python",
   "pygments_lexer": "ipython3",
   "version": "3.10.10"
  }
 },
 "nbformat": 4,
 "nbformat_minor": 5
}
