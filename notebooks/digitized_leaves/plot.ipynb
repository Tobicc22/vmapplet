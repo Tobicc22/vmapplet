{
 "cells": [
  {
   "cell_type": "code",
   "execution_count": null,
   "id": "6e21c382-4eb1-497f-8ca7-2423e54ac8a5",
   "metadata": {},
   "outputs": [],
   "source": [
    "import math\n",
    "import pandas as pd\n",
    "import numpy as np\n",
    "import pgljupyter\n",
    "import openalea.plantgl.all as pgl\n",
    "from vmapplet.tools.surface import leafSurface"
   ]
  },
  {
   "cell_type": "markdown",
   "id": "ad6d5dfb-7650-43b1-8570-edc2099944f3",
   "metadata": {},
   "source": [
    "device manual: https://polhemus.com/_assets/img/FASTRAK_User_Manual_OPM00PI002-G.pdf"
   ]
  },
  {
   "cell_type": "code",
   "execution_count": null,
   "id": "92f34da0-3af7-4622-b1aa-58f88239ac64",
   "metadata": {},
   "outputs": [],
   "source": [
    "branches = pd.read_csv('branches.csv')\n",
    "leaves = pd.read_csv('leaves.csv')"
   ]
  },
  {
   "cell_type": "code",
   "execution_count": null,
   "id": "8683d292-fb29-47d3-a064-d7a2d8a8cf9a",
   "metadata": {},
   "outputs": [],
   "source": [
    "branches"
   ]
  },
  {
   "cell_type": "code",
   "execution_count": null,
   "id": "f5b748e2-5d3f-4fc1-8fb2-e16edca09965",
   "metadata": {},
   "outputs": [],
   "source": [
    "leaves"
   ]
  },
  {
   "cell_type": "code",
   "execution_count": null,
   "id": "e24ec730-712b-472f-9388-85e645a3a214",
   "metadata": {},
   "outputs": [],
   "source": [
    "branch_shapes = []\n",
    "for i, branch in branches.iterrows():\n",
    "    if not i % 2:\n",
    "        x0 = branch['X']\n",
    "        y0 = branch['Y']\n",
    "        z0 = branch['Z']\n",
    "    else:\n",
    "        x1 = branch['X']\n",
    "        y1 = branch['Y']\n",
    "        z1 = branch['Z']\n",
    "        geom = pgl.Extrusion(pgl.Polyline([(x0, y0, -z0), (x1, y1, -z1)]), pgl.Polyline2D.Circle(1))\n",
    "        shape = pgl.Shape(geom, pgl.Material(ambient=(49,29,25) , diffuse = 2.55102, shininess=0))\n",
    "        branch_shapes.append(shape)"
   ]
  },
  {
   "cell_type": "code",
   "execution_count": null,
   "id": "e01e4827-498b-40ea-9f46-a48452f12413",
   "metadata": {},
   "outputs": [],
   "source": [
    "leaf_shapes = []\n",
    "for _, leaf in leaves.iterrows():\n",
    "    x = leaf['X']\n",
    "    y = leaf['Y']\n",
    "    z = leaf['Z']\n",
    "    a = leaf['A'] * math.pi / 180\n",
    "    c = leaf['B'] * math.pi / 180\n",
    "    b = leaf['C'] * math.pi / 180\n",
    "    geom = pgl.Translated(x, y, -z, pgl.EulerRotated(a, b, c, leafSurface()))\n",
    "    shape = pgl.Shape(geom, pgl.Material(ambient=(0, 59, 6), shininess=0, diffuse=1.59322))\n",
    "    leaf_shapes.append(shape)"
   ]
  },
  {
   "cell_type": "code",
   "execution_count": null,
   "id": "cc6e9bae-a886-4b81-bebe-1c9cc817b367",
   "metadata": {},
   "outputs": [],
   "source": [
    "pgljupyter.SceneWidget(branch_shapes + leaf_shapes, scale=1, size_world=-branches['Z'].min())"
   ]
  },
  {
   "cell_type": "code",
   "execution_count": null,
   "id": "7d761b2a-922b-4e98-aa98-6534f50e953b",
   "metadata": {},
   "outputs": [],
   "source": [
    "def get_leaf_geom():\n",
    "    import math\n",
    "    points = [(0,-1,0), (0,1,0), (4,1,0), (4,-1,0)]\n",
    "    indices = [(0, 1, 2, 3)]\n",
    "    material = pgl.Material(ambient=(0, 59, 6), shininess=0, diffuse=1.59322)\n",
    "    geom = pgl.QuadSet(points,indices)\n",
    "    return geom\n",
    "    #return pgl.EulerRotated(0, math.pi/2, 0,  pgl.Translated(0, 0, 1.5, pgl.Group([geom, pgl.Translated(0, 0, -1.5, pgl.Cylinder(0.05, 2.5))])))\n",
    "    #return pgl.Group([geom, pgl.Translated(0, 0, -1.5, pgl.Cylinder(0.05, 2.5))])"
   ]
  },
  {
   "cell_type": "code",
   "execution_count": null,
   "id": "07ce2c80-f1ac-4ab6-ab7e-9d25db8b247f",
   "metadata": {},
   "outputs": [],
   "source": [
    "def plot_single_branch(code: str, widget: pgljupyter.SceneWidget):\n",
    "    \"\"\"branch bein and leaves translated to orgin 0,0,0\"\"\"\n",
    "    branch = branches[branches['code rameau'] == code]\n",
    "    leaves_ = leaves[leaves['code rameau'] == code]\n",
    "    shapes = []\n",
    "\n",
    "    x0 = branch.iloc[0]['X']\n",
    "    y0 = branch.iloc[0]['Y']\n",
    "    z0 = branch.iloc[0]['Z']\n",
    "    x1 = branch.iloc[1]['X'] - x0  # remove offset to plot branch at origin (0,0,0)\n",
    "    y1 = branch.iloc[1]['Y'] - y0\n",
    "    z1 = branch.iloc[1]['Z'] - z0\n",
    "    \n",
    "    geom = pgl.Extrusion(pgl.Polyline([(0, 0, 0), (x1, y1, -z1)]), pgl.Polyline2D.Circle(1))\n",
    "    shape = pgl.Shape(geom, pgl.Material(ambient=(49,29,25) , diffuse = 2.55102, shininess=0))\n",
    "    shapes.append(shape)\n",
    "\n",
    "    for _, leaf in leaves_.iterrows():\n",
    "        x = leaf['X'] - x0\n",
    "        y = leaf['Y'] - y0\n",
    "        z = leaf['Z'] - z0\n",
    "        a = leaf['A'] * math.pi / 180\n",
    "        b = leaf['B'] * math.pi / 180\n",
    "        c = leaf['C'] * math.pi / 180\n",
    "        #  leafSurface()\n",
    "        geom =  get_leaf_geom()\n",
    "        geom = pgl.Translated(x, y, -z, pgl.EulerRotated(a, b, c, get_leaf_geom()))\n",
    "        shape = pgl.Shape(geom, pgl.Material(ambient=(0, 59, 6), shininess=0, diffuse=1.59322))\n",
    "        shapes.append(shape)\n",
    "\n",
    "    widget.set_scenes(pgl.Scene(shapes), scales=0.1)"
   ]
  },
  {
   "cell_type": "code",
   "execution_count": null,
   "id": "3399bade-1340-43c2-924d-d970b1c9e824",
   "metadata": {},
   "outputs": [],
   "source": [
    "single_branch_widget = pgljupyter.SceneWidget()\n",
    "single_branch_widget"
   ]
  },
  {
   "cell_type": "code",
   "execution_count": null,
   "id": "4bb081d1-b4ba-423d-be09-2c695ed5dda0",
   "metadata": {},
   "outputs": [],
   "source": [
    "plot_single_branch('F36PL2', single_branch_widget)"
   ]
  },
  {
   "cell_type": "code",
   "execution_count": null,
   "id": "8f484a7c-df8a-4a0b-9b7a-baab116a9f8a",
   "metadata": {},
   "outputs": [],
   "source": [
    "leaf_widget = pgljupyter.SceneWidget()\n",
    "leaf_widget"
   ]
  },
  {
   "cell_type": "code",
   "execution_count": null,
   "id": "7a7ac779-77cf-4c7f-9df2-602e401bb401",
   "metadata": {},
   "outputs": [],
   "source": [
    "leaf = pgl.Shape(get_leaf_geom(), pgl.Material(ambient=(0, 59, 6), shininess=0, diffuse=1.59322))\n",
    "leaf_widget.set_scenes(leaf, scales=0.1)"
   ]
  },
  {
   "cell_type": "code",
   "execution_count": null,
   "id": "08eb7449-4347-4368-a7b5-838022705c3f",
   "metadata": {},
   "outputs": [],
   "source": []
  }
 ],
 "metadata": {
  "kernelspec": {
   "display_name": "Python 3 (ipykernel)",
   "language": "python",
   "name": "python3"
  },
  "language_info": {
   "codemirror_mode": {
    "name": "ipython",
    "version": 3
   },
   "file_extension": ".py",
   "mimetype": "text/x-python",
   "name": "python",
   "nbconvert_exporter": "python",
   "pygments_lexer": "ipython3",
   "version": "3.9.15"
  }
 },
 "nbformat": 4,
 "nbformat_minor": 5
}
