{
 "cells": [
  {
   "cell_type": "code",
   "execution_count": 1,
   "id": "3032b678-2cd6-4657-bc32-486b187140ef",
   "metadata": {},
   "outputs": [],
   "source": [
    "import os\n",
    "import cppyy"
   ]
  },
  {
   "cell_type": "code",
   "execution_count": 2,
   "id": "3205ce27-8792-45d5-9e37-3bdbd703b314",
   "metadata": {},
   "outputs": [
    {
     "data": {
      "text/plain": [
       "True"
      ]
     },
     "execution_count": 2,
     "metadata": {},
     "output_type": "execute_result"
    }
   ],
   "source": [
    "cppyy.add_include_path(f'{os.environ[\"CONDA_PREFIX\"]}/include')\n",
    "cppyy.add_library_path(f'{os.environ[\"CONDA_PREFIX\"]}/lib')\n",
    "cppyy.load_library('pglmath')\n",
    "cppyy.include('../../vmapplet/optimization.h')"
   ]
  },
  {
   "cell_type": "code",
   "execution_count": 3,
   "id": "dce27e54-0a67-434b-9b1c-c8bdbf6355a8",
   "metadata": {},
   "outputs": [],
   "source": [
    "c_second_moment_of_area_annular_section = cppyy.gbl.optimization.second_moment_of_area_annular_section\n",
    "c_rotate = cppyy.gbl.optimization.rotate"
   ]
  },
  {
   "cell_type": "code",
   "execution_count": 4,
   "id": "d0812580-ce55-4579-a8dd-c6808167ae4d",
   "metadata": {},
   "outputs": [],
   "source": [
    "from math import sin, cos\n",
    "from openalea.plantgl.all import Vector3\n",
    "def py_second_moment_of_area_annular_section(inner_radius, thickness, section):\n",
    "    rt = inner_radius+thickness\n",
    "    rt2 = rt*rt\n",
    "    rt4 = rt2*rt2\n",
    "    r = inner_radius\n",
    "    r2 = r*r\n",
    "    r4=r2*r2\n",
    "    return  0.125 * (rt4 - r4)*(section + sin(section))\n",
    "\n",
    "def py_rotate(v3x,  v3y,  v3z,  angle,  vx,  vy,  vz):\n",
    "    c =  cos(angle)\n",
    "    t2 =  1 - c\n",
    "    t6 =  t2*v3x\n",
    "    t7 =  t6*v3y\n",
    "    s =  sin(angle)\n",
    "    t9 =  s*v3z\n",
    "    t11 = t6*v3z\n",
    "    t12 = s*v3y\n",
    "    t19 = t2*v3y*v3z\n",
    "    t20 = s*v3x\n",
    "    t24 = v3z*v3z\n",
    "    R00 = c + t2*v3x*v3x\n",
    "    R01 = t7 - t9\n",
    "    R02 = t11 + t12\n",
    "    R10 = t7 + t9\n",
    "    R11 = c + t2*v3y*v3y\n",
    "    R12 = t19 - t20\n",
    "    R20 = t11 - t12\n",
    "    R21 = t19 + t20\n",
    "    R22 = c + t2*t24\n",
    "    return Vector3(R00*vx+R01*vy+R02*vz, R10*vx+R11*vy+R12*vz, R20*vx+R21*vy+R22*vz)"
   ]
  },
  {
   "cell_type": "code",
   "execution_count": 5,
   "id": "1ee2930d-5e35-425f-ab5c-e6a99298b69c",
   "metadata": {},
   "outputs": [
    {
     "name": "stdout",
     "output_type": "stream",
     "text": [
      "223 ns ± 6.79 ns per loop (mean ± std. dev. of 7 runs, 1,000,000 loops each)\n"
     ]
    }
   ],
   "source": [
    "%%timeit\n",
    "py_second_moment_of_area_annular_section(1,2,3)"
   ]
  },
  {
   "cell_type": "code",
   "execution_count": 6,
   "id": "35a1f638-235e-4171-8a97-7a68718459c5",
   "metadata": {},
   "outputs": [
    {
     "name": "stdout",
     "output_type": "stream",
     "text": [
      "98.4 ns ± 1.09 ns per loop (mean ± std. dev. of 7 runs, 10,000,000 loops each)\n"
     ]
    }
   ],
   "source": [
    "%%timeit\n",
    "c_second_moment_of_area_annular_section(1,2,3)"
   ]
  },
  {
   "cell_type": "code",
   "execution_count": 7,
   "id": "e7f63991-27a2-4797-9d31-e8a98d6ad1de",
   "metadata": {},
   "outputs": [
    {
     "name": "stdout",
     "output_type": "stream",
     "text": [
      "1.61 µs ± 8.89 ns per loop (mean ± std. dev. of 7 runs, 1,000,000 loops each)\n"
     ]
    }
   ],
   "source": [
    "%%timeit\n",
    "py_rotate(1,2,3,4,5,6,7)"
   ]
  },
  {
   "cell_type": "code",
   "execution_count": 8,
   "id": "47d9534a-dc1a-46d2-a9e4-899ee994f095",
   "metadata": {},
   "outputs": [
    {
     "name": "stdout",
     "output_type": "stream",
     "text": [
      "622 ns ± 5.99 ns per loop (mean ± std. dev. of 7 runs, 1,000,000 loops each)\n"
     ]
    }
   ],
   "source": [
    "%%timeit\n",
    "c_rotate(1,2,3,4,5,6,7)"
   ]
  },
  {
   "cell_type": "code",
   "execution_count": null,
   "id": "c87a4529-2b28-4645-9500-d79f2b1102b2",
   "metadata": {},
   "outputs": [],
   "source": []
  }
 ],
 "metadata": {
  "kernelspec": {
   "display_name": "Python 3 (ipykernel)",
   "language": "python",
   "name": "python3"
  },
  "language_info": {
   "codemirror_mode": {
    "name": "ipython",
    "version": 3
   },
   "file_extension": ".py",
   "mimetype": "text/x-python",
   "name": "python",
   "nbconvert_exporter": "python",
   "pygments_lexer": "ipython3",
   "version": "3.9.15"
  },
  "widgets": {
   "application/vnd.jupyter.widget-state+json": {
    "state": {},
    "version_major": 2,
    "version_minor": 0
   }
  }
 },
 "nbformat": 4,
 "nbformat_minor": 5
}
